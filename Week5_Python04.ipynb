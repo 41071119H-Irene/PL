{
 "cells": [
  {
   "cell_type": "code",
   "execution_count": 25,
   "id": "92891f96",
   "metadata": {},
   "outputs": [],
   "source": [
    "# 將JSON檔拉進程式，並將之打開\n",
    "\n",
    "import json\n",
    "\n",
    "HR = open('HR.json',encoding=\"UTF-8\")"
   ]
  },
  {
   "cell_type": "code",
   "execution_count": 26,
   "id": "acd95565",
   "metadata": {},
   "outputs": [],
   "source": [
    "active = json.load(HR)"
   ]
  },
  {
   "cell_type": "code",
   "execution_count": 27,
   "id": "5dd89d2a",
   "metadata": {},
   "outputs": [
    {
     "data": {
      "text/plain": [
       "dict"
      ]
     },
     "execution_count": 27,
     "metadata": {},
     "output_type": "execute_result"
    }
   ],
   "source": [
    "## 辨識讀出來的類別，excel原始檔沒有分頁的話會顯示為list\n",
    "type(active)"
   ]
  },
  {
   "cell_type": "code",
   "execution_count": 32,
   "id": "6f1c10ab",
   "metadata": {},
   "outputs": [
    {
     "name": "stdout",
     "output_type": "stream",
     "text": [
      "('出席列表', [{'學生姓名': '李承曄', '組別': 1, '出席率': 25}, {'學生姓名': '林鈺茹', '組別': 1, '出席率': 100}, {'學生姓名': '徐敏皓', '組別': 1, '出席率': 75}, {'學生姓名': '陳思岑', '組別': 1, '出席率': 80}])\n",
      "('總加分數', [{'學生姓名': '李承曄', '總加分': 5}, {'學生姓名': '林鈺茹', '總加分': 7}, {'學生姓名': '徐敏皓', '總加分': 0}, {'學生姓名': '陳思岑', '總加分': 3}])\n"
     ]
    }
   ],
   "source": [
    "## 讀出完整字典做確認\n",
    "for n in active.items():\n",
    "    print(n)"
   ]
  },
  {
   "cell_type": "code",
   "execution_count": null,
   "id": "f4bcd5a6",
   "metadata": {},
   "outputs": [],
   "source": [
    "# 選取\n",
    "input(\"想要使用的功能，0:出席學生查詢；1:總加分數，請填入數字\")"
   ]
  },
  {
   "cell_type": "code",
   "execution_count": null,
   "id": "bb047b36",
   "metadata": {},
   "outputs": [],
   "source": []
  }
 ],
 "metadata": {
  "kernelspec": {
   "display_name": "Python 3 (ipykernel)",
   "language": "python",
   "name": "python3"
  },
  "language_info": {
   "codemirror_mode": {
    "name": "ipython",
    "version": 3
   },
   "file_extension": ".py",
   "mimetype": "text/x-python",
   "name": "python",
   "nbconvert_exporter": "python",
   "pygments_lexer": "ipython3",
   "version": "3.9.12"
  }
 },
 "nbformat": 4,
 "nbformat_minor": 5
}
