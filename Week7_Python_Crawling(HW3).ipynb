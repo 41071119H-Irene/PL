{
 "cells": [
  {
   "cell_type": "code",
   "execution_count": 53,
   "id": "c16d65d7",
   "metadata": {},
   "outputs": [
    {
     "name": "stdout",
     "output_type": "stream",
     "text": [
      "[問題]  推薦維修Switch 的店家\n",
      "[贈送] joie 0~7歲汽座 [已送出]\n",
      "[徵求] 支援5G的Wifi分享器\n",
      "[贈送]  閒置小家電\n",
      "[公告] 新機購買續約/餐廳訂位區 \n",
      "─☆☆ Hsinchu - 置底‧出清／跳蚤市場  ☆☆─\n",
      "[公告] 新竹板板規 v3.8.3 + 新手入門\n",
      "[公告] 票券、卡片、點數、會員 →請推本文←\n",
      "[徵求] 10/19 竹市東區關東路300巷往公道五的行\n"
     ]
    }
   ],
   "source": [
    "# 抓取 PTT 新竹版的網頁原始碼(HTML)\n",
    "import urllib.request as req\n",
    "url= \"https://www.ptt.cc/bbs/Hsinchu/index.html\" # 可以換成想要抓的PTT版之網址\n",
    "# 建立一個 Request 物件，附加 Request Headers 的資訊(看起來像人類)\n",
    "request=req.Request(url, headers={\n",
    "    \"User-Agent\":\"Mozilla/5.0 (Windows NT 10.0; Win64; x64) AppleWebKit/537.36 (KHTML, like Gecko) Chrome/106.0.0.0 Safari/537.36\"\n",
    "})\n",
    "with req.urlopen(request) as response:\n",
    "    data=response.read().decode(\"utf-8\")\n",
    "# 解析原始碼，取得每篇文章的標題\n",
    "import bs4\n",
    "root=bs4.BeautifulSoup(data, \"html.parser\")\n",
    "titles=root.find_all(\"div\", class_=\"title\") # 尋找所有 class=\"title\" 的 div 標籤\n",
    "for title in titles:\n",
    "    if title.a !=None: # 如果標題包含 a 標籤(仍存在於網頁上)，就印出來\n",
    "        finish = title.a.string \n",
    "        print(finish)"
   ]
  },
  {
   "cell_type": "code",
   "execution_count": 59,
   "id": "6dd91665",
   "metadata": {},
   "outputs": [
    {
     "data": {
      "text/plain": [
       "bs4.element.NavigableString"
      ]
     },
     "execution_count": 59,
     "metadata": {},
     "output_type": "execute_result"
    }
   ],
   "source": [
    "type(finish)"
   ]
  },
  {
   "cell_type": "code",
   "execution_count": null,
   "id": "80059bed",
   "metadata": {},
   "outputs": [],
   "source": []
  },
  {
   "cell_type": "code",
   "execution_count": null,
   "id": "c36c79bd",
   "metadata": {},
   "outputs": [],
   "source": []
  }
 ],
 "metadata": {
  "kernelspec": {
   "display_name": "Python 3 (ipykernel)",
   "language": "python",
   "name": "python3"
  },
  "language_info": {
   "codemirror_mode": {
    "name": "ipython",
    "version": 3
   },
   "file_extension": ".py",
   "mimetype": "text/x-python",
   "name": "python",
   "nbconvert_exporter": "python",
   "pygments_lexer": "ipython3",
   "version": "3.9.12"
  }
 },
 "nbformat": 4,
 "nbformat_minor": 5
}
