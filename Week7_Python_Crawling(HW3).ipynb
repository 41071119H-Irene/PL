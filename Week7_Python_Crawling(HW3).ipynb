{
 "cells": [
  {
   "cell_type": "code",
   "execution_count": 128,
   "id": "c16d65d7",
   "metadata": {},
   "outputs": [
    {
     "name": "stdout",
     "output_type": "stream",
     "text": [
      "\"[問題]  推薦維修Switch 的店家\"\n",
      "\"[贈送] joie 0~7歲汽座 [已送出]\"\n",
      "\"[徵求] 支援5G的Wifi分享器\"\n",
      "\"[贈送]  閒置小家電\"\n",
      "\"[問題] 指甲矯正店家請益\"\n",
      "\"[徵求] 小獅王不滑落浴盆\"\n",
      "\"[公告] 新機購買續約/餐廳訂位區 \"\n",
      "\"─☆☆ Hsinchu - 置底‧出清／跳蚤市場  ☆☆─\"\n",
      "\"[公告] 新竹板板規 v3.8.3 + 新手入門\"\n",
      "\"[公告] 票券、卡片、點數、會員 →請推本文←\"\n",
      "\"[徵求] 10/19 竹市東區關東路300巷往公道五的行\"\n"
     ]
    }
   ],
   "source": [
    "# 抓取 PTT 新竹版的網頁原始碼(HTML)\n",
    "import urllib.request as req\n",
    "import json\n",
    "url= \"https://www.ptt.cc/bbs/Hsinchu/index.html\" # 可以換成想要抓的PTT版之網址\n",
    "# 建立一個 Request 物件，附加 Request Headers 的資訊(看起來像人類)\n",
    "request=req.Request(url, headers={\n",
    "    \"User-Agent\":\"Mozilla/5.0 (Windows NT 10.0; Win64; x64) AppleWebKit/537.36 (KHTML, like Gecko) Chrome/106.0.0.0 Safari/537.36\"\n",
    "})\n",
    "with req.urlopen(request) as response:\n",
    "    data=response.read().decode(\"utf-8\")\n",
    "# 解析原始碼，取得每篇文章的標題\n",
    "import bs4\n",
    "root=bs4.BeautifulSoup(data, \"html.parser\")\n",
    "titles=root.find_all(\"div\", class_=\"title\") # 尋找所有 class=\"title\" 的 div 標籤\n",
    "for title in titles:\n",
    "    if title.a !=None: # 如果標題包含 a 標籤(仍存在於網頁上)，就印出來\n",
    "        finish = title.a.string \n",
    "        json_dict = json.dumps(finish,ensure_ascii=False).encode('utf8')\n",
    "        decode = json_dict.decode()\n",
    "        print(decode)\n",
    "        # 轉為json檔並直接下載\n",
    "        fn = r'C:\\Users\\Irene Chang\\Desktop\\\\Hsinchu_PTT.json'\n",
    "        with open(fn, 'w', encoding = 'utf-8') as json_obj:\n",
    "            json.dump(finish, json_obj)"
   ]
  },
  {
   "cell_type": "code",
   "execution_count": 138,
   "id": "d8791ae1",
   "metadata": {},
   "outputs": [
    {
     "ename": "NameError",
     "evalue": "name 'year_int_lst' is not defined",
     "output_type": "error",
     "traceback": [
      "\u001b[1;31m---------------------------------------------------------------------------\u001b[0m",
      "\u001b[1;31mNameError\u001b[0m                                 Traceback (most recent call last)",
      "Input \u001b[1;32mIn [138]\u001b[0m, in \u001b[0;36m<cell line: 4>\u001b[1;34m()\u001b[0m\n\u001b[0;32m      1\u001b[0m \u001b[38;5;66;03m# 轉為csv檔\u001b[39;00m\n\u001b[0;32m      2\u001b[0m \u001b[38;5;28;01mimport\u001b[39;00m \u001b[38;5;21;01mpandas\u001b[39;00m \u001b[38;5;28;01mas\u001b[39;00m \u001b[38;5;21;01mpd\u001b[39;00m\n\u001b[1;32m----> 4\u001b[0m year_series \u001b[38;5;241m=\u001b[39m pd\u001b[38;5;241m.\u001b[39mSeries(\u001b[43myear_int_lst\u001b[49m,name\u001b[38;5;241m=\u001b[39m\u001b[38;5;124m'\u001b[39m\u001b[38;5;124m標題\u001b[39m\u001b[38;5;124m'\u001b[39m)\n\u001b[0;32m      6\u001b[0m result_dataframe \u001b[38;5;241m=\u001b[39m pd\u001b[38;5;241m.\u001b[39mconcat([year_series],axis\u001b[38;5;241m=\u001b[39m\u001b[38;5;241m1\u001b[39m)\n\u001b[0;32m      8\u001b[0m result_dataframe\u001b[38;5;241m.\u001b[39mto_csv(\u001b[38;5;124m'\u001b[39m\u001b[38;5;124m./files/global_temperature.csv\u001b[39m\u001b[38;5;124m'\u001b[39m, index \u001b[38;5;241m=\u001b[39m \u001b[38;5;28;01mNone\u001b[39;00m)\n",
      "\u001b[1;31mNameError\u001b[0m: name 'year_int_lst' is not defined"
     ]
    }
   ],
   "source": [
    "# 轉為csv檔\n",
    "import pandas as pd\n",
    "\n",
    "year_series = pd.Series(year_str_lst,name='標題')\n",
    "\n",
    "result_dataframe = pd.concat([year_series],axis=1)\n",
    "\n",
    "result_dataframe.to_csv('./files/global_temperature.csv', index = None)"
   ]
  },
  {
   "cell_type": "code",
   "execution_count": null,
   "id": "498ae116",
   "metadata": {},
   "outputs": [],
   "source": []
  }
 ],
 "metadata": {
  "kernelspec": {
   "display_name": "Python 3 (ipykernel)",
   "language": "python",
   "name": "python3"
  },
  "language_info": {
   "codemirror_mode": {
    "name": "ipython",
    "version": 3
   },
   "file_extension": ".py",
   "mimetype": "text/x-python",
   "name": "python",
   "nbconvert_exporter": "python",
   "pygments_lexer": "ipython3",
   "version": "3.9.12"
  }
 },
 "nbformat": 4,
 "nbformat_minor": 5
}
