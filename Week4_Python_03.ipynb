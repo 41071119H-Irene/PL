{
 "cells": [
  {
   "cell_type": "code",
   "execution_count": 12,
   "id": "8a70724a",
   "metadata": {},
   "outputs": [
    {
     "name": "stdout",
     "output_type": "stream",
     "text": [
      "['哈囉喜歡吃的食物', '哈囉覺得像邪教的東西', '22喜歡吃的東西', '22覺得像邪教的東西', '捲捲喜歡吃的東西', '捲捲覺得是邪教的東西']\n",
      "[['甜點', '巧克力', '火鍋', '紅棗', '茄子', '生魚飯'], ['香菜', '鳳梨', '夏威夷披薩', '咖哩拌飯'], ['夏威夷披薩', '甜點', '芋頭', '南瓜', '咖哩拌飯', '茄子'], ['紅棗', '娃娃菜', '長壽菜', '苦瓜'], ['芭樂', '甜點', '巧克力', '生魚飯'], ['茄子', '咖哩拌飯', '抹茶', '苦瓜']]\n"
     ]
    }
   ],
   "source": [
    "## 建立一個喜歡和討厭吃的列表\n",
    "\n",
    "dictionary= {\"哈囉喜歡吃的食物\":[\"甜點\",\"巧克力\",\"火鍋\",\"紅棗\",\"茄子\",\"生魚飯\"],\n",
    "             \"哈囉覺得像邪教的東西\":[\"香菜\",\"鳳梨\",\"夏威夷披薩\",\"咖哩拌飯\"],\n",
    "             \"22喜歡吃的東西\":[\"夏威夷披薩\",\"甜點\",\"芋頭\",\"南瓜\",\"咖哩拌飯\",\"茄子\"],\n",
    "             \"22覺得像邪教的東西\":[\"紅棗\",\"娃娃菜\",\"長壽菜\",\"苦瓜\"],\n",
    "             \"捲捲喜歡吃的東西\":[\"芭樂\",\"甜點\",\"巧克力\",\"生魚飯\"],\n",
    "             \"捲捲覺得是邪教的東西\":[\"茄子\",\"咖哩拌飯\",\"抹茶\",\"苦瓜\"]}\n",
    "\n",
    "likeornot=list(dictionary.keys())\n",
    "print(likeornot)\n",
    "Food =list(dictionary.values())\n",
    "print(Food)\n"
   ]
  },
  {
   "cell_type": "code",
   "execution_count": 33,
   "id": "c7fd4252",
   "metadata": {},
   "outputs": [],
   "source": [
    "## 商品購買客群購買時間\n",
    "\n",
    "dictionary={\"年齡\":[\"60-70\",\"30-40\",\"15-20\",\"12-15\",\"20-30\"]\n",
    "           ,\"購買時段\":[\"Morning\",\"Evening\",\"Noon\",\"Morning\",\"Midnight\"]\n",
    "           }\n"
   ]
  },
  {
   "cell_type": "code",
   "execution_count": 36,
   "id": "3f45daa2",
   "metadata": {
    "scrolled": true
   },
   "outputs": [
    {
     "name": "stdout",
     "output_type": "stream",
     "text": [
      "輸入年齡層30-40\n"
     ]
    }
   ],
   "source": [
    "age= input(\"輸入年齡層\")"
   ]
  },
  {
   "cell_type": "code",
   "execution_count": 38,
   "id": "61d63ff0",
   "metadata": {},
   "outputs": [
    {
     "name": "stdout",
     "output_type": "stream",
     "text": [
      "Evening\n"
     ]
    }
   ],
   "source": [
    "n = 0\n",
    "for i in dictionary[\"年齡\"]:\n",
    "    if age == i:\n",
    "        print(dictionary[\"購買時段\"][n])\n",
    "    else:\n",
    "        n = n+1  "
   ]
  },
  {
   "cell_type": "code",
   "execution_count": 13,
   "id": "63309134",
   "metadata": {},
   "outputs": [
    {
     "name": "stdout",
     "output_type": "stream",
     "text": [
      "{'name': '阿程', 'age': 34, 'law': {'第16條': '裝置高音量喇叭或其他產生噪音器物', '第17條': '汽車不依限期參加定期檢驗或臨時檢驗', '第62條': '汽車駕駛人駕駛汽車肇事', '第21條': '未領有駕駛執照駕駛小型車或機車'}, 'money': {'第16條': 1600, '第17條': 1500, '第62條': 2500, '第21條': 10500}}\n",
      "{'name': '阿力', 'age': 29, 'law': {'第12條': '汽車使用吊銷、註銷之牌照'}, 'money': {'第12條': 5000}}\n",
      "{'name': '阿瑤', 'age': 58, 'law': {'第82條': '未經許可在道路擺設攤位', '第56條': '在禁止臨時廳車處停車'}, 'money': {'第82條': 2000, '第56條': 1000}}\n"
     ]
    }
   ],
   "source": [
    "## 0301練習 1\n",
    "\n",
    "# 字典建立\n",
    "## 檢查:印出三人資料\n",
    "\n",
    "A = {\"name\":\"阿程\",\n",
    "    \"age\":34,\n",
    "    \"law\":{'第16條':'裝置高音量喇叭或其他產生噪音器物',\n",
    "           '第17條':'汽車不依限期參加定期檢驗或臨時檢驗',\n",
    "           '第62條':'汽車駕駛人駕駛汽車肇事',\n",
    "           '第21條':'未領有駕駛執照駕駛小型車或機車'},\n",
    "    \"money\":{\"第16條\":1600,\"第17條\":1500,\"第62條\":2500,\"第21條\":10500}}\n",
    "\n",
    "\n",
    "B = {\"name\":\"阿力\",\n",
    "    \"age\":29,\n",
    "    \"law\":{'第12條':'汽車使用吊銷、註銷之牌照'},\n",
    "    \"money\":{\"第12條\":5000}}\n",
    "\n",
    "C = {\"name\":\"阿瑤\",\n",
    "    \"age\":58,\n",
    "    \"law\":{'第82條':'未經許可在道路擺設攤位',\n",
    "           '第56條':'在禁止臨時廳車處停車'},\n",
    "    \"money\":{\"第82條\":2000,\"第56條\":1000}}\n",
    "print(A)\n",
    "print(B)\n",
    "print(C)"
   ]
  },
  {
   "cell_type": "code",
   "execution_count": 20,
   "id": "06564bb9",
   "metadata": {},
   "outputs": [],
   "source": [
    "## 定義犯罪數和罰款的計算\n",
    "\n",
    "def guilt(name): \n",
    "    a = len(name['law'])\n",
    "    n = []\n",
    "    for b in name['law']:\n",
    "        gu = (b,name['law'][b])\n",
    "        n.append(gu)\n",
    "    return a, n\n",
    "\n",
    "def money(name):\n",
    "    m = 0\n",
    "    n = []\n",
    "    for c in name['money']:\n",
    "        mo = (c,name['money'][c])\n",
    "        n.append(mo)\n",
    "        m += name['money'][c]"
   ]
  },
  {
   "cell_type": "code",
   "execution_count": 22,
   "id": "89806148",
   "metadata": {},
   "outputs": [
    {
     "ename": "SyntaxError",
     "evalue": "invalid syntax (432626943.py, line 1)",
     "output_type": "error",
     "traceback": [
      "\u001b[1;36m  Input \u001b[1;32mIn [22]\u001b[1;36m\u001b[0m\n\u001b[1;33m    ***\u001b[0m\n\u001b[1;37m    ^\u001b[0m\n\u001b[1;31mSyntaxError\u001b[0m\u001b[1;31m:\u001b[0m invalid syntax\n"
     ]
    }
   ],
   "source": [
    "\n",
    "#犯罪次數排名\n",
    "gua, ga = guilt(A)\n",
    "gub, gb = guilt(B)\n",
    "guc, gc = guilt(C)\n",
    "x = [gua,gub,guc]\n",
    "x1 = enumerate(x, start = 1)\n",
    "x2 = (sorted(x1, key = lambda s: s[1]))\n",
    "# print(x2) # [(原始位置,value)]\n",
    "\n",
    "# 罰錢金額排名\n",
    "moa, ma = money(A)\n",
    "mob, mb = money(B)\n",
    "moc, mc = money(C)\n",
    "y = [moa,mob,moc]\n",
    "y1 = enumerate(y, start = 1)\n",
    "y2 = (sorted(y1, key = lambda s: s[1]))\n",
    "\"\"\""
   ]
  },
  {
   "cell_type": "code",
   "execution_count": null,
   "id": "2c7d82e7",
   "metadata": {},
   "outputs": [
    {
     "name": "stdout",
     "output_type": "stream",
     "text": [
      "觸犯道路交通管理處罰條例人員名單\n"
     ]
    }
   ],
   "source": [
    "## 0301解答\n",
    "print('觸犯道路交通管理處罰條例人員名單')\n",
    "A = {'name':'阿程','age':34,'罪責':{'第16條':'裝置高音量喇叭或其他產生噪音器物','第17條':'汽車不依限期參加定期檢驗或臨時檢驗',\n",
    "                                 '第62條':'汽車駕駛人駕駛汽車肇事','第21條':'未領有駕駛執照駕駛小型車或機車'},\n",
    "                          '罰鍰':{'第16條':1600,'第17條':1500,'第62條':2500,'第21條':10500}}\n",
    "\n",
    "B = {'name':'阿力','age':29,'罪責':{'第12條':'汽車使用吊銷、註銷之牌照'},\n",
    "                          '罰鍰':{'第12條':5000}}\n",
    "\n",
    "C = {'name':'阿瑤','age':58,'罪責':{'第82條':'未經許可在道路擺設攤位','第56條':'在禁止臨時停車處所停車'},\n",
    "                          '罰鍰':{'第82條':2000,'第56條':1000}}\n",
    "\n",
    "def guilt(name): \n",
    "    a = len(name['罪責'])\n",
    "    n = []\n",
    "    for b in name['罪責']:\n",
    "        gu = (b,name['罪責'][b])\n",
    "        n.append(gu)\n",
    "    return a, n\n",
    "\n",
    "def money(name):\n",
    "    m = 0\n",
    "    n = []\n",
    "    for c in name['罰鍰']:\n",
    "        mo = (c,name['罰鍰'][c])\n",
    "        n.append(mo)\n",
    "        m += name['罰鍰'][c]\n",
    "    return m, n\n",
    "\n",
    "'''犯罪次數排名'''\n",
    "gua, ga = guilt(A)\n",
    "gub, gb = guilt(B)\n",
    "guc, gc = guilt(C)\n",
    "x = [gua,gub,guc]\n",
    "x1 = enumerate(x, start = 1)\n",
    "x2 = (sorted(x1, key = lambda s: s[1]))\n",
    "#print(x2) #[(原始位置,value)]\n",
    "\n",
    "'''罰錢金額排名'''\n",
    "moa, ma = money(A)\n",
    "mob, mb = money(B)\n",
    "moc, mc = money(C)\n",
    "y = [moa,mob,moc]\n",
    "y1 = enumerate(y, start = 1)\n",
    "y2 = (sorted(y1, key = lambda s: s[1]))\n",
    "\n",
    "while True:\n",
    "    options = input('請輸入: 1.查看阿程 2.查看阿力 3.查看阿瑤 4.犯罪數排名 5.累積罰金&罰鍰數排名 6.結束程式:')\n",
    "    if options == '1':\n",
    "        print('Name:',A['name'],'\\nAge:',A['age']) #\\n分行\n",
    "        print('共觸犯(條):',gua)\n",
    "        print('條例內容:')\n",
    "        getit(ga)\n",
    "        print('罰鍰總額(元):',moa)\n",
    "        print('詳細內容:')\n",
    "        getit(ma)\n",
    "    elif options == '2':\n",
    "        print('Name:',B['name'],'\\nAge:',B['age'])\n",
    "        print('共觸犯(條):',gub)\n",
    "        print('條例內容:')\n",
    "        getit(gb)\n",
    "        print('罰鍰總額(元):',mob)\n",
    "        print('詳細內容:')\n",
    "        getit(mb)\n",
    "    elif options == '3':\n",
    "        print('Name:',C['name'],'\\nAge:',C['age'])\n",
    "        print('共觸犯(條):',guc)\n",
    "        print('條例內容:')\n",
    "        getit(gc)\n",
    "        print('罰鍰總額(元):',moc)\n",
    "        print('詳細內容:')\n",
    "        getit(mc)\n",
    "    elif options == '4':\n",
    "        print('阿程為1，阿力為2，阿瑤為3')\n",
    "        print('(人,犯罪次數)(少->多Ooo）')\n",
    "        print(x2)\n",
    "    elif options == '5':\n",
    "        print('阿程為1，阿力為2，阿瑤為3')\n",
    "        print('(人,金額)(少->多）')\n",
    "        print(y2)\n",
    "    elif options == '6':\n",
    "        print('Bye bye~~~')\n",
    "        break\n",
    "    else:\n",
    "        print('輸入錯誤，請重新輸入')\n",
    "        continue"
   ]
  },
  {
   "cell_type": "code",
   "execution_count": null,
   "id": "2a95b667",
   "metadata": {},
   "outputs": [],
   "source": []
  }
 ],
 "metadata": {
  "kernelspec": {
   "display_name": "Python 3 (ipykernel)",
   "language": "python",
   "name": "python3"
  },
  "language_info": {
   "codemirror_mode": {
    "name": "ipython",
    "version": 3
   },
   "file_extension": ".py",
   "mimetype": "text/x-python",
   "name": "python",
   "nbconvert_exporter": "python",
   "pygments_lexer": "ipython3",
   "version": "3.9.12"
  }
 },
 "nbformat": 4,
 "nbformat_minor": 5
}
