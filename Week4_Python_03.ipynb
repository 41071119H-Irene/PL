{
 "cells": [
  {
   "cell_type": "code",
   "execution_count": 12,
   "id": "8a70724a",
   "metadata": {},
   "outputs": [
    {
     "name": "stdout",
     "output_type": "stream",
     "text": [
      "['哈囉喜歡吃的食物', '哈囉覺得像邪教的東西', '22喜歡吃的東西', '22覺得像邪教的東西', '捲捲喜歡吃的東西', '捲捲覺得是邪教的東西']\n",
      "[['甜點', '巧克力', '火鍋', '紅棗', '茄子', '生魚飯'], ['香菜', '鳳梨', '夏威夷披薩', '咖哩拌飯'], ['夏威夷披薩', '甜點', '芋頭', '南瓜', '咖哩拌飯', '茄子'], ['紅棗', '娃娃菜', '長壽菜', '苦瓜'], ['芭樂', '甜點', '巧克力', '生魚飯'], ['茄子', '咖哩拌飯', '抹茶', '苦瓜']]\n"
     ]
    }
   ],
   "source": [
    "dictionary= {\"哈囉喜歡吃的食物\":[\"甜點\",\"巧克力\",\"火鍋\",\"紅棗\",\"茄子\",\"生魚飯\"],\n",
    "             \"哈囉覺得像邪教的東西\":[\"香菜\",\"鳳梨\",\"夏威夷披薩\",\"咖哩拌飯\"],\n",
    "             \"22喜歡吃的東西\":[\"夏威夷披薩\",\"甜點\",\"芋頭\",\"南瓜\",\"咖哩拌飯\",\"茄子\"],\n",
    "             \"22覺得像邪教的東西\":[\"紅棗\",\"娃娃菜\",\"長壽菜\",\"苦瓜\"],\n",
    "             \"捲捲喜歡吃的東西\":[\"芭樂\",\"甜點\",\"巧克力\",\"生魚飯\"],\n",
    "             \"捲捲覺得是邪教的東西\":[\"茄子\",\"咖哩拌飯\",\"抹茶\",\"苦瓜\"]}\n",
    "\n",
    "likeornot=list(dictionary.keys())\n",
    "print(likeornot)\n",
    "Food =list(dictionary.values())\n",
    "print(Food)\n"
   ]
  },
  {
   "cell_type": "code",
   "execution_count": null,
   "id": "c7fd4252",
   "metadata": {},
   "outputs": [],
   "source": []
  }
 ],
 "metadata": {
  "kernelspec": {
   "display_name": "Python 3 (ipykernel)",
   "language": "python",
   "name": "python3"
  },
  "language_info": {
   "codemirror_mode": {
    "name": "ipython",
    "version": 3
   },
   "file_extension": ".py",
   "mimetype": "text/x-python",
   "name": "python",
   "nbconvert_exporter": "python",
   "pygments_lexer": "ipython3",
   "version": "3.9.12"
  }
 },
 "nbformat": 4,
 "nbformat_minor": 5
}
