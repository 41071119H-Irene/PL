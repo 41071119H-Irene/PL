{
 "cells": [
  {
   "cell_type": "code",
   "execution_count": null,
   "id": "4d35a2dd",
   "metadata": {},
   "outputs": [],
   "source": [
    "dictionary= {\"哈囉喜歡吃的食物\":[\"甜點\",\"巧克力\",\"火鍋\",\"紅棗\",\"茄子\",\"生魚飯\"],\"哈囉覺得像邪教的東西\":[\"香菜\",\"鳳梨\",\"夏威夷披薩\",\"咖哩拌飯\"],\"22喜歡吃的東西\":[\"夏威夷披薩\",\"甜點\",\"芋頭\",\"南瓜\",\"咖哩拌飯\",\"茄子\"],\"22覺得像邪教的東西\":[\"紅棗\",\"娃娃菜\",\"長壽菜\",\"苦瓜\"],\"捲捲喜歡吃的東西\":[\"芭樂\",\"甜點\",\"巧克力\",\"生魚飯\"],\"捲捲覺得是邪教的東西\":[\"茄子\",\"咖哩拌飯\",\"抹茶\",\"苦瓜\"]\n",
    "        \n"
   ]
  }
 ],
 "metadata": {
  "kernelspec": {
   "display_name": "Python 3 (ipykernel)",
   "language": "python",
   "name": "python3"
  },
  "language_info": {
   "codemirror_mode": {
    "name": "ipython",
    "version": 3
   },
   "file_extension": ".py",
   "mimetype": "text/x-python",
   "name": "python",
   "nbconvert_exporter": "python",
   "pygments_lexer": "ipython3",
   "version": "3.9.12"
  }
 },
 "nbformat": 4,
 "nbformat_minor": 5
}
