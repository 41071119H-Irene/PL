{
 "cells": [
  {
   "cell_type": "code",
   "execution_count": 29,
   "id": "638f1c83",
   "metadata": {
    "scrolled": true
   },
   "outputs": [],
   "source": [
    "import pandas as pd\n",
    "\n",
    "# read csv file 抓資料進來來\n",
    "CIOT = pd.read_csv(\"CIOT.csv\")\n",
    "classes = pd.read_csv(\"class.csv\")"
   ]
  },
  {
   "cell_type": "code",
   "execution_count": 38,
   "id": "346aef49",
   "metadata": {},
   "outputs": [
    {
     "name": "stdout",
     "output_type": "stream",
     "text": [
      "全部修課學生數: 21  vs. 有來參加的學生數: 19\n"
     ]
    }
   ],
   "source": [
    "alldata = list(CIOT['姓名'])\n",
    "classs = list(classes['姓名'])\n",
    "print(\"全部修課學生數:\", len(CIOT),\" vs. 有來參加的學生數:\", len(classes))"
   ]
  },
  {
   "cell_type": "code",
   "execution_count": 40,
   "id": "f49f639e",
   "metadata": {},
   "outputs": [
    {
     "data": {
      "text/plain": [
       "{'李國彰', '林郁宸', '林雨璇', '鄭文', '鄭朝元', '黃俊能'}"
      ]
     },
     "execution_count": 40,
     "metadata": {},
     "output_type": "execute_result"
    }
   ],
   "source": [
    "set(alldata).difference(set(classs))"
   ]
  }
 ],
 "metadata": {
  "kernelspec": {
   "display_name": "Python 3 (ipykernel)",
   "language": "python",
   "name": "python3"
  },
  "language_info": {
   "codemirror_mode": {
    "name": "ipython",
    "version": 3
   },
   "file_extension": ".py",
   "mimetype": "text/x-python",
   "name": "python",
   "nbconvert_exporter": "python",
   "pygments_lexer": "ipython3",
   "version": "3.9.12"
  }
 },
 "nbformat": 4,
 "nbformat_minor": 5
}
