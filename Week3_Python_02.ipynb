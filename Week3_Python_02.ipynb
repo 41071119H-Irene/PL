{
 "cells": [
  {
   "cell_type": "code",
   "execution_count": 29,
   "id": "638f1c83",
   "metadata": {
    "scrolled": true
   },
   "outputs": [],
   "source": [
    "import pandas as pd\n",
    "\n",
    "# read csv file 抓資料進來來\n",
    "CIOT = pd.read_csv(\"CIOT.csv\")\n",
    "classes = pd.read_csv(\"class.csv\")"
   ]
  },
  {
   "cell_type": "code",
   "execution_count": 38,
   "id": "07df529b",
   "metadata": {},
   "outputs": [
    {
     "name": "stdout",
     "output_type": "stream",
     "text": [
      "全部修課學生數: 21  vs. 有來參加的學生數: 19\n"
     ]
    }
   ],
   "source": [
    "alldata = list(CIOT['姓名'])\n",
    "classs = list(classes['姓名'])\n",
    "print(\"全部修課學生數:\", len(CIOT),\" vs. 有來參加的學生數:\", len(classes))"
   ]
  },
  {
   "cell_type": "code",
   "execution_count": 39,
   "id": "87f8790a",
   "metadata": {},
   "outputs": [
    {
     "data": {
      "text/plain": [
       "{nan}"
      ]
     },
     "execution_count": 39,
     "metadata": {},
     "output_type": "execute_result"
    }
   ],
   "source": [
    "set(alldata).difference(set(cla))"
   ]
  },
  {
   "cell_type": "code",
   "execution_count": null,
   "id": "115f1fe6",
   "metadata": {},
   "outputs": [],
   "source": []
  },
  {
   "cell_type": "code",
   "execution_count": null,
   "id": "b1eec344",
   "metadata": {},
   "outputs": [],
   "source": []
  }
 ],
 "metadata": {
  "kernelspec": {
   "display_name": "Python 3 (ipykernel)",
   "language": "python",
   "name": "python3"
  },
  "language_info": {
   "codemirror_mode": {
    "name": "ipython",
    "version": 3
   },
   "file_extension": ".py",
   "mimetype": "text/x-python",
   "name": "python",
   "nbconvert_exporter": "python",
   "pygments_lexer": "ipython3",
   "version": "3.9.12"
  }
 },
 "nbformat": 4,
 "nbformat_minor": 5
}
