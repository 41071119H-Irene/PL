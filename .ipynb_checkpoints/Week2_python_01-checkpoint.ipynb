{
 "cells": [
  {
   "cell_type": "code",
   "execution_count": 1,
   "id": "57fe559f",
   "metadata": {},
   "outputs": [],
   "source": [
    "money=500\n",
    "year=4"
   ]
  },
  {
   "cell_type": "code",
   "execution_count": 4,
   "id": "540054bf",
   "metadata": {},
   "outputs": [
    {
     "name": "stdout",
     "output_type": "stream",
     "text": [
      "給我 500 元\n"
     ]
    }
   ],
   "source": [
    "print(\"給我\",money,\"元\")"
   ]
  },
  {
   "cell_type": "code",
   "execution_count": 5,
   "id": "cb5137b5",
   "metadata": {},
   "outputs": [
    {
     "name": "stdout",
     "output_type": "stream",
     "text": [
      "4\n"
     ]
    }
   ],
   "source": [
    "print(year)"
   ]
  },
  {
   "cell_type": "code",
   "execution_count": 3,
   "id": "b2995a5b",
   "metadata": {},
   "outputs": [
    {
     "name": "stdout",
     "output_type": "stream",
     "text": [
      "4\n"
     ]
    }
   ],
   "source": [
    "money=500\n",
    "year=4\n",
    "\n",
    "print(year)"
   ]
  },
  {
   "cell_type": "code",
   "execution_count": 6,
   "id": "f71c24e2",
   "metadata": {},
   "outputs": [
    {
     "name": "stdout",
     "output_type": "stream",
     "text": [
      "如果今日有一判決結果為「相對人於民國一百零六年三月二十一日簽發之本票內載憑票交付聲請人新臺幣陸萬參仟捌佰伍拾貳元，及自民國一百零六年三月二十一日起至清償日止，按年息百分之十六\n"
     ]
    }
   ],
   "source": [
    "str1=\"如果今日有一判決結果為「相對人於民國一百零六年三月二十一日簽發之本票內載憑票交付聲請人新臺幣陸萬參仟捌佰伍拾貳元，及自民國一百零六年三月二十一日起至清償日止，按年息百分之十六\"\n",
    "print(str1)"
   ]
  },
  {
   "cell_type": "code",
   "execution_count": 7,
   "id": "2536ece5",
   "metadata": {},
   "outputs": [
    {
     "name": "stdout",
     "output_type": "stream",
     "text": [
      "如果今日有一判決結果為「相對人於民國一百零六年三月二十一日簽發之本票內載憑票交付聲請人新臺幣陸萬參仟捌佰伍拾貳元，及自民國一百零六年三月二十一日起至清償日止，按年息百分之十六償還\n"
     ]
    }
   ],
   "source": [
    "str1=\"如果今日有一判決結果為「相對人於民國一百零六年三月二十一日簽發之本票內載憑票交付聲請人新臺幣陸萬參仟捌佰伍拾貳元，及自民國一百零六年三月二十一日起至清償日止，按年息百分之十六償還\"\n",
    "print(str1)"
   ]
  },
  {
   "cell_type": "code",
   "execution_count": 6,
   "id": "f2f3b7dd",
   "metadata": {},
   "outputs": [
    {
     "name": "stdout",
     "output_type": "stream",
     "text": [
      "在一行車糾紛中，雙方都有違規，所以雙方皆有過失責任，判決結果為雙方一判賠比例賠償，判賠比例為7:3(被告:原告)，而一開始賠償總額為25688元。\n",
      "Q.請將原告及被告個別須分擔的賠償金額算出來(取整數)\n",
      "\n",
      "答:被告要付 17981 ，原告要付 7706\n"
     ]
    }
   ],
   "source": [
    "#練習一\n",
    "practice1=\"在一行車糾紛中，雙方都有違規，所以雙方皆有過失責任，判決結果為雙方一判賠比例賠償，判賠比例為7:3(被告:原告)，而一開始賠償總額為25688元。\"\n",
    "str1=\"Q.請將原告及被告個別須分擔的賠償金額算出來(取整數)\"\n",
    "money=25688\n",
    "被告= int(money*0.7)\n",
    "原告= int(money*0.3)\n",
    "\n",
    "print(practice1)\n",
    "print(str1)\n",
    "print()\n",
    "print(\"答:被告要付\",被告,\"，原告要付\",原告)"
   ]
  },
  {
   "cell_type": "code",
   "execution_count": 11,
   "id": "225e808f",
   "metadata": {},
   "outputs": [
    {
     "name": "stdout",
     "output_type": "stream",
     "text": [
      "總共要還： 12608 元\n"
     ]
    }
   ],
   "source": [
    "#練習二\n",
    "money=11805\n",
    "dayrate=0.0005\n",
    "month1=150\n",
    "month2=300\n",
    "all_money=money*(1+dayrate)**59+month1+month2\n",
    "print(\"總共要還：\",int(all_money),\"元\")"
   ]
  },
  {
   "cell_type": "code",
   "execution_count": 9,
   "id": "cc95a043",
   "metadata": {},
   "outputs": [
    {
     "name": "stdout",
     "output_type": "stream",
     "text": [
      "請輸入案件:\n",
      "請填入有效訊息\n"
     ]
    }
   ],
   "source": [
    "#練習三\n",
    "\n",
    "event=input(\"請輸入案件:\")\n",
    "\n",
    "if event==\"被告闖紅燈\":\n",
    "    print(\"被告賠100%\")\n",
    "elif event==\"原告闖紅燈\":\n",
    "    print(\"原告多被告少\")\n",
    "elif event==\"被告原告皆闖紅燈\":\n",
    "    print(\"原告50%，被告50%\")\n",
    "else:\n",
    "    print(\"請填入有效訊息\")\n",
    "                "
   ]
  }
 ],
 "metadata": {
  "kernelspec": {
   "display_name": "Python 3 (ipykernel)",
   "language": "python",
   "name": "python3"
  },
  "language_info": {
   "codemirror_mode": {
    "name": "ipython",
    "version": 3
   },
   "file_extension": ".py",
   "mimetype": "text/x-python",
   "name": "python",
   "nbconvert_exporter": "python",
   "pygments_lexer": "ipython3",
   "version": "3.9.12"
  }
 },
 "nbformat": 4,
 "nbformat_minor": 5
}
