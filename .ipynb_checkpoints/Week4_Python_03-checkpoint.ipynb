{
 "cells": [
  {
   "cell_type": "code",
   "execution_count": 12,
   "id": "8a70724a",
   "metadata": {},
   "outputs": [
    {
     "name": "stdout",
     "output_type": "stream",
     "text": [
      "['哈囉喜歡吃的食物', '哈囉覺得像邪教的東西', '22喜歡吃的東西', '22覺得像邪教的東西', '捲捲喜歡吃的東西', '捲捲覺得是邪教的東西']\n",
      "[['甜點', '巧克力', '火鍋', '紅棗', '茄子', '生魚飯'], ['香菜', '鳳梨', '夏威夷披薩', '咖哩拌飯'], ['夏威夷披薩', '甜點', '芋頭', '南瓜', '咖哩拌飯', '茄子'], ['紅棗', '娃娃菜', '長壽菜', '苦瓜'], ['芭樂', '甜點', '巧克力', '生魚飯'], ['茄子', '咖哩拌飯', '抹茶', '苦瓜']]\n"
     ]
    }
   ],
   "source": [
    "## 建立一個喜歡和討厭吃的列表\n",
    "\n",
    "dictionary= {\"哈囉喜歡吃的食物\":[\"甜點\",\"巧克力\",\"火鍋\",\"紅棗\",\"茄子\",\"生魚飯\"],\n",
    "             \"哈囉覺得像邪教的東西\":[\"香菜\",\"鳳梨\",\"夏威夷披薩\",\"咖哩拌飯\"],\n",
    "             \"22喜歡吃的東西\":[\"夏威夷披薩\",\"甜點\",\"芋頭\",\"南瓜\",\"咖哩拌飯\",\"茄子\"],\n",
    "             \"22覺得像邪教的東西\":[\"紅棗\",\"娃娃菜\",\"長壽菜\",\"苦瓜\"],\n",
    "             \"捲捲喜歡吃的東西\":[\"芭樂\",\"甜點\",\"巧克力\",\"生魚飯\"],\n",
    "             \"捲捲覺得是邪教的東西\":[\"茄子\",\"咖哩拌飯\",\"抹茶\",\"苦瓜\"]}\n",
    "\n",
    "likeornot=list(dictionary.keys())\n",
    "print(likeornot)\n",
    "Food =list(dictionary.values())\n",
    "print(Food)\n"
   ]
  },
  {
   "cell_type": "code",
   "execution_count": 33,
   "id": "c7fd4252",
   "metadata": {},
   "outputs": [],
   "source": [
    "## 商品購買客群購買時間\n",
    "\n",
    "dictionary={\"年齡\":[\"60-70\",\"30-40\",\"15-20\",\"12-15\",\"20-30\"]\n",
    "           ,\"購買時段\":[\"Morning\",\"Evening\",\"Noon\",\"Morning\",\"Midnight\"]\n",
    "           }\n"
   ]
  },
  {
   "cell_type": "code",
   "execution_count": 36,
   "id": "3f45daa2",
   "metadata": {
    "scrolled": true
   },
   "outputs": [
    {
     "name": "stdout",
     "output_type": "stream",
     "text": [
      "輸入年齡層30-40\n"
     ]
    }
   ],
   "source": [
    "age= input(\"輸入年齡層\")"
   ]
  },
  {
   "cell_type": "code",
   "execution_count": 38,
   "id": "61d63ff0",
   "metadata": {},
   "outputs": [
    {
     "name": "stdout",
     "output_type": "stream",
     "text": [
      "Evening\n"
     ]
    }
   ],
   "source": [
    "n = 0\n",
    "for i in dictionary[\"年齡\"]:\n",
    "    if age == i:\n",
    "        print(dictionary[\"購買時段\"][n])\n",
    "    else:\n",
    "        n = n+1  "
   ]
  },
  {
   "cell_type": "code",
   "execution_count": null,
   "id": "63309134",
   "metadata": {},
   "outputs": [],
   "source": [
    "## 0301練習 1\n",
    "\n",
    "# 字典建立\n",
    "\n",
    "A= {\"name\":\"阿程\",\n",
    "    \"age\":34,\n",
    "    \"law\":{'第16條':'裝置高音量喇叭或其他產生噪音器物',\n",
    "           '第17條':'汽車不依限期參加定期檢驗或臨時檢驗',\n",
    "           '第62條':'汽車駕駛人駕駛汽車肇事',\n",
    "           '第21條':'未領有駕駛執照駕駛小型車或機車'},\n",
    "    \"money\":{\"第16條\":1600,\"第17條\":1500,\"第62條\":2500,\"第21條\":10500}}\n",
    "\n",
    "\n",
    "A= {\"name\":\"阿力\",\n",
    "    \"age\":29,\n",
    "    \"law\":{'第12條':'汽車使用吊銷、註銷之牌照'},\n",
    "    \"money\":{\"第12條\":5000}}\n",
    "\n",
    "A= {\"name\":\"阿瑤\",\n",
    "    \"age\":58,\n",
    "    \"law\":{'第82條':'未經許可在道路擺設攤位',\n",
    "           '第56條':'在禁止臨時廳車處停車'},\n",
    "    \"money\":{\"第82條\":2000,\"第56條\":1000}}"
   ]
  }
 ],
 "metadata": {
  "kernelspec": {
   "display_name": "Python 3 (ipykernel)",
   "language": "python",
   "name": "python3"
  },
  "language_info": {
   "codemirror_mode": {
    "name": "ipython",
    "version": 3
   },
   "file_extension": ".py",
   "mimetype": "text/x-python",
   "name": "python",
   "nbconvert_exporter": "python",
   "pygments_lexer": "ipython3",
   "version": "3.9.12"
  }
 },
 "nbformat": 4,
 "nbformat_minor": 5
}
