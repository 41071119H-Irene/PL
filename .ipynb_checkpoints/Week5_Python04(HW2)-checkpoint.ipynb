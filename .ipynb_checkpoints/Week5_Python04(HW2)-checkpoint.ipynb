{
 "cells": [
  {
   "cell_type": "code",
   "execution_count": 55,
   "id": "92891f96",
   "metadata": {},
   "outputs": [],
   "source": [
    "# 將JSON檔拉進程式，並將之打開\n",
    "\n",
    "import json\n",
    "\n",
    "HR = open('HR.json',encoding=\"UTF-8\")"
   ]
  },
  {
   "cell_type": "code",
   "execution_count": 56,
   "id": "acd95565",
   "metadata": {},
   "outputs": [],
   "source": [
    "active = json.load(HR)"
   ]
  },
  {
   "cell_type": "code",
   "execution_count": 57,
   "id": "5dd89d2a",
   "metadata": {},
   "outputs": [
    {
     "data": {
      "text/plain": [
       "dict"
      ]
     },
     "execution_count": 57,
     "metadata": {},
     "output_type": "execute_result"
    }
   ],
   "source": [
    "## 辨識讀出來的類別，excel原始檔沒有分頁的話會顯示為list\n",
    "type(active)"
   ]
  },
  {
   "cell_type": "code",
   "execution_count": 58,
   "id": "6f1c10ab",
   "metadata": {
    "scrolled": true
   },
   "outputs": [
    {
     "data": {
      "text/plain": [
       "dict_items([('出席列表', [{'學生姓名': 'Irene', '組別': 1, '出席率': 25}, {'學生姓名': 'Ruth', '組別': 1, '出席率': 100}, {'學生姓名': 'Ben', '組別': 1, '出席率': 75}, {'學生姓名': 'Amy', '組別': 1, '出席率': 80}]), ('總加分數', [{'學生姓名': 'Irene', '總加分': 5}, {'學生姓名': 'Ruth', '總加分': 7}, {'學生姓名': 'Ben', '總加分': 0}, {'學生姓名': 'Amy', '總加分': 3}])])"
      ]
     },
     "execution_count": 58,
     "metadata": {},
     "output_type": "execute_result"
    }
   ],
   "source": [
    "## 讀出完整字典做確認\n",
    "active.items()"
   ]
  },
  {
   "cell_type": "code",
   "execution_count": 64,
   "id": "c6ab917f",
   "metadata": {},
   "outputs": [],
   "source": [
    "# 抽出學生出席列表、總加分數\n",
    "temp = active.get('出席列表')\n",
    "temp1 = active.get('總加分數')"
   ]
  },
  {
   "cell_type": "code",
   "execution_count": 78,
   "id": "577d22ef",
   "metadata": {},
   "outputs": [],
   "source": [
    "# 填入想查詢的學生\n",
    "ask = \"Irene\""
   ]
  },
  {
   "cell_type": "code",
   "execution_count": 86,
   "id": "64495d96",
   "metadata": {},
   "outputs": [
    {
     "name": "stdout",
     "output_type": "stream",
     "text": [
      "Irene 是第 1 組\n"
     ]
    }
   ],
   "source": [
    "for i in temp:\n",
    "    if ask == i.get('學生姓名'):\n",
    "        print(ask, '是第', i.get('組別'),'組')\n",
    "        \n"
   ]
  },
  {
   "cell_type": "code",
   "execution_count": 87,
   "id": "9b260ce6",
   "metadata": {},
   "outputs": [
    {
     "name": "stdout",
     "output_type": "stream",
     "text": [
      "加了 5 分\n"
     ]
    }
   ],
   "source": [
    "for o in temp1:\n",
    "    if ask == o.get('學生姓名'):\n",
    "        print('加了', o.get('總加分'), '分')"
   ]
  },
  {
   "cell_type": "code",
   "execution_count": null,
   "id": "57f9db41",
   "metadata": {},
   "outputs": [],
   "source": []
  }
 ],
 "metadata": {
  "kernelspec": {
   "display_name": "Python 3 (ipykernel)",
   "language": "python",
   "name": "python3"
  },
  "language_info": {
   "codemirror_mode": {
    "name": "ipython",
    "version": 3
   },
   "file_extension": ".py",
   "mimetype": "text/x-python",
   "name": "python",
   "nbconvert_exporter": "python",
   "pygments_lexer": "ipython3",
   "version": "3.9.12"
  }
 },
 "nbformat": 4,
 "nbformat_minor": 5
}
