{
 "cells": [
  {
   "cell_type": "code",
   "execution_count": 10,
   "id": "277baea8",
   "metadata": {},
   "outputs": [
    {
     "name": "stdout",
     "output_type": "stream",
     "text": [
      "time:3 個月前\n",
      "comment:從小喝到大耶～\n",
      "老闆還是同一個\n",
      "各種青草茶都是花上不少時間熬煮的\n",
      "薏仁湯也是熬煮到很濃稠，而且料多滿滿一杯，超級好喝\n",
      "\n",
      "苦茶ɴᴛ$ 45\n",
      "好像是顧肝最強的涼茶\n",
      "我是沒有覺得很苦，反而覺得回甘超級好喝的\n",
      "\n",
      "薏仁湯ɴᴛ$ 40\n",
      "冰冰涼涼的好喝，微甜\n",
      "\n",
      "多種行動支付\n",
      "Line pay、悠遊付、街口、台灣pay\n",
      "time:3 個月前\n",
      "comment:每隔幾天就會去買一瓶 酸梅汁\n",
      "專研植物藥理背景的老闆\n",
      "用心熬煮特別濃郁的配方\n",
      "除了天天喝了腸胃舒服 心情也特別好\n",
      "本身是梅子控的我\n",
      "這是我喝過最天然且真材實料的\n",
      "其它的品項樣樣有特色好喝好吃\n",
      "薏仁湯也推薦 苦茶竟然不苦還順口\n",
      "希望如此講究衛生健康的老店能不受疫情影響\n",
      "㊗️佛心且低調客氣的老闆 生意興隆\n",
      "time:1 個月前\n",
      "comment:111.09.19更新：買了網推的薏仁湯，超級濃稠阿，很棒。\n",
      "\n",
      "無糖青草茶有淡淡草藥香，回甘也解暑，但1瓶100我覺得小貴（老闆對不起喇🧎‍♀️），是真材店家；下次來試試綠豆/薏仁看看～\n",
      "time:7 個月前\n",
      "comment:從大學到現在還是很愛的好味道，真材實料一喝（吃）就知道，這麼多年沒變過，雖在夜市裡，但整個攤位總是乾淨整齊，我用一塵不染形容都不為過。\n",
      "\n",
      "和阿北的人一樣，惜字如金，講了也都是重點，反正～就是實力取勝啊！\n",
      "\n",
      "今天點了薏仁湯，簡單、味醇、用料紮實，非常清爽的微微微甜，口感濃郁到根本像在吃粥😆\n",
      "\n",
      "現在line pay、街口、悠遊卡、台灣pay等支付都可以使用了，對出門只想帶手機的人來說超方便。\n",
      "\n",
      "路過一定要記得來找阿北買好喝又健康的飲品啊！\n",
      "time:5 個月前\n",
      "comment:綠豆湯太好喝了～\n",
      "喝到都快沒了才想到要拍照\n",
      "綠豆很多湯也很清甜夏天喝很降火氣\n",
      "洛神花茶酸酸甜甜的也很好喝老闆伯伯來說是戀愛的滋味有夠可愛哈哈哈～\n",
      "酸梅湯很濃郁感覺吃重口味的東西配著喝會很合適！推薦大家💛💛\n",
      "time:1 個月前\n",
      "comment:從中學一路喝到現在，好滋味沒有改變過，老闆也是一直都很親切、實在，就像這家店賣的東西一樣🥰\n",
      "大推薏仁湯，滿滿都是料，喝（吃）玩很有飽足感。\n",
      "青草茶也是我每次必點的飲品，這次還嘗試了苦茶（怕苦的人也可以嘗試看看，很溫和的苦味）。\n",
      "time:2 個月前\n",
      "comment:太好喝了吧！超香的酸梅湯和桂圓紅棗湯！貨真價實！老闆超親切熱情！下次還要來喝別的～～～\n",
      "time:8 個月前\n",
      "comment:不要再喝手搖飲了\n",
      "來師大一定要嚐嚐伯伯親手熬煮的養身茶\n",
      "各種茶飲都真材實料\n",
      "最喜桂圓紅棗茶 清甜回甘好眠\n",
      "養肝茶喝完身體很舒暢 順口健康\n",
      "減脂茶酸酸的很適合配夜市的罪惡食物\n",
      "大推大推\n",
      "time:5 個月前\n",
      "comment:老闆人超好\n",
      "都非常真材實料\n",
      "每次來師大夜市都會來\n",
      "必推～\n",
      "常喝青草茶跟洛神花茶\n",
      "有戀愛的感覺\n",
      "time:11 個月前\n",
      "comment:今天點的是減脂茶大杯\n",
      "\n",
      "這一家的茶都很健康XD\n",
      "逛夜市不要配手搖飲來古早茶坊比較養生啦！\n",
      "大一上結束前決定喝一輪！！\n",
      "記得讓老闆做熱/溫的健康加倍喔😆（忘記也可以自己加熱水，因為茶和香味都夠濃郁禁得起稀釋喔~）\n",
      "\n",
      "P.s.老闆穿西裝走復古紳士風是紛亂師大夜市的特殊風景❤️\n"
     ]
    }
   ],
   "source": [
    "# 抓取留言\n",
    "\n",
    "#引入函式庫\n",
    "import requests \n",
    "import json\n",
    "\n",
    "# 超連結\n",
    "url = 'https://www.google.com/maps/preview/review/listentitiesreviews?authuser=0&hl=zh-TW&gl=tw&pb=!1m2!1y3765758629526904009!2y3122492267182977036!2m1!2i10!3e1!4m5!3b1!4b1!5b1!6b1!7b1!5m2!1snpZwY-zWDsHbhwPLmarYDQ!7e81'\n",
    "    \n",
    "# 發送get請求\n",
    "text = requests.get(url).text\n",
    "# 取代掉特殊字元，這個字元是為了資訊安全而設定的喔。\n",
    "pretext = ')]}\\''\n",
    "text = text.replace(pretext,'')\n",
    "\n",
    "# 把字串讀取成json\n",
    "soup = json.loads(text)\n",
    "\n",
    "# 取出包含留言的List 。\n",
    "conlist = soup[2]\n",
    "\n",
    "# 逐筆抓出\n",
    "for i in conlist:\n",
    "    print(\"time:\"+str(i[1]))\n",
    "    print(\"comment:\"+str(i[3]))"
   ]
  },
  {
   "cell_type": "code",
   "execution_count": 11,
   "id": "b9c72b16",
   "metadata": {},
   "outputs": [
    {
     "ename": "ModuleNotFoundError",
     "evalue": "No module named 'jieba'",
     "output_type": "error",
     "traceback": [
      "\u001b[1;31m---------------------------------------------------------------------------\u001b[0m",
      "\u001b[1;31mModuleNotFoundError\u001b[0m                       Traceback (most recent call last)",
      "Input \u001b[1;32mIn [11]\u001b[0m, in \u001b[0;36m<cell line: 1>\u001b[1;34m()\u001b[0m\n\u001b[1;32m----> 1\u001b[0m \u001b[38;5;28;01mimport\u001b[39;00m \u001b[38;5;21;01mjieba\u001b[39;00m\n\u001b[0;32m      2\u001b[0m \u001b[38;5;28;01mimport\u001b[39;00m \u001b[38;5;21;01mjieba\u001b[39;00m\u001b[38;5;21;01m.\u001b[39;00m\u001b[38;5;21;01manalyse\u001b[39;00m\n\u001b[0;32m      3\u001b[0m \u001b[38;5;28;01mimport\u001b[39;00m \u001b[38;5;21;01mpandas\u001b[39;00m \u001b[38;5;28;01mas\u001b[39;00m \u001b[38;5;21;01mpd\u001b[39;00m\n",
      "\u001b[1;31mModuleNotFoundError\u001b[0m: No module named 'jieba'"
     ]
    }
   ],
   "source": [
    "import jieba\n",
    "import jieba.analyse\n",
    "import pandas as pd\n",
    "import numpy\n",
    "from collections import Counter"
   ]
  },
  {
   "cell_type": "code",
   "execution_count": null,
   "id": "a8e239ac",
   "metadata": {},
   "outputs": [],
   "source": []
  }
 ],
 "metadata": {
  "kernelspec": {
   "display_name": "Python 3 (ipykernel)",
   "language": "python",
   "name": "python3"
  },
  "language_info": {
   "codemirror_mode": {
    "name": "ipython",
    "version": 3
   },
   "file_extension": ".py",
   "mimetype": "text/x-python",
   "name": "python",
   "nbconvert_exporter": "python",
   "pygments_lexer": "ipython3",
   "version": "3.9.12"
  }
 },
 "nbformat": 4,
 "nbformat_minor": 5
}
