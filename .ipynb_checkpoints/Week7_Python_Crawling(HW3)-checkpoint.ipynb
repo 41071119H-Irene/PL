{
 "cells": [
  {
   "cell_type": "code",
   "execution_count": 140,
   "id": "c16d65d7",
   "metadata": {},
   "outputs": [
    {
     "name": "stdout",
     "output_type": "stream",
     "text": [
      "\"[問題] 咖啡生豆\"\n",
      "\"Re: [閒聊] 寶山交通炸裂\"\n",
      "\"Re: [閒聊] 寶山交通炸裂\"\n",
      "\"Re: [問題] 竹北適合求婚的場所\"\n",
      "\"[公告] 新機購買續約/餐廳訂位區 \"\n",
      "\"─☆☆ Hsinchu - 置底‧出清／跳蚤市場  ☆☆─\"\n",
      "\"[公告] 新竹板板規 v3.8.3 + 新手入門\"\n",
      "\"[公告] 票券、卡片、點數、會員 →請推本文←\"\n",
      "\"[徵求] 10/24中華路五段500號南下附近行車紀錄\"\n"
     ]
    }
   ],
   "source": [
    "# 抓取 PTT 新竹版的網頁原始碼(HTML)\n",
    "import urllib.request as req\n",
    "import json\n",
    "import pandas as pd\n",
    "import io\n",
    "url= \"https://www.ptt.cc/bbs/Hsinchu/index.html\" # 可以換成想要抓的PTT版之網址\n",
    "# 建立一個 Request 物件，附加 Request Headers 的資訊(看起來像人類)\n",
    "request=req.Request(url, headers={\n",
    "    \"User-Agent\":\"Mozilla/5.0 (Windows NT 10.0; Win64; x64) AppleWebKit/537.36 (KHTML, like Gecko) Chrome/106.0.0.0 Safari/537.36\"\n",
    "})\n",
    "with req.urlopen(request) as response:\n",
    "    data=response.read().decode(\"utf-8\")\n",
    "# 解析原始碼，取得每篇文章的標題\n",
    "import bs4\n",
    "root=bs4.BeautifulSoup(data, \"html.parser\")\n",
    "titles=root.find_all(\"div\", class_=\"title\") # 尋找所有 class=\"title\" 的 div 標籤\n",
    "\n",
    "for title in titles:\n",
    "    if title.a !=None: # 如果標題包含 a 標籤(仍存在於網頁上)，就印出來(包含解碼)\n",
    "        finish = title.a.string \n",
    "        json_dict = json.dumps(finish,ensure_ascii=False).encode('utf8')\n",
    "        decode = json_dict.decode()\n",
    "        print(decode)\n",
    "\n"
   ]
  },
  {
   "cell_type": "code",
   "execution_count": 130,
   "id": "fcb7c005",
   "metadata": {},
   "outputs": [
    {
     "name": "stdout",
     "output_type": "stream",
     "text": [
      "\"[問題] 咖啡生豆\"\n",
      "\"Re: [閒聊] 寶山交通炸裂\"\n",
      "\"Re: [閒聊] 寶山交通炸裂\"\n",
      "\"Re: [問題] 竹北適合求婚的場所\"\n",
      "\"[公告] 新機購買續約/餐廳訂位區 \"\n",
      "\"─☆☆ Hsinchu - 置底‧出清／跳蚤市場  ☆☆─\"\n",
      "\"[公告] 新竹板板規 v3.8.3 + 新手入門\"\n",
      "\"[公告] 票券、卡片、點數、會員 →請推本文←\"\n",
      "\"[徵求] 10/24中華路五段500號南下附近行車紀錄\"\n"
     ]
    }
   ],
   "source": [
    "# 轉為csv檔\n",
    "temp = []\n",
    "for title in titles:\n",
    "    if title.a !=None: # 如果標題包含 a 標籤(仍存在於網頁上)，就印出來\n",
    "        finish = title.a.string \n",
    "        json_dict = json.dumps(finish,ensure_ascii=False).encode('utf8')\n",
    "        decode = json_dict.decode()\n",
    "        temp.append(decode)\n",
    "        print(decode)"
   ]
  },
  {
   "cell_type": "code",
   "execution_count": 145,
   "id": "987f2c32",
   "metadata": {},
   "outputs": [
    {
     "data": {
      "text/plain": [
       "['\"[問題] 咖啡生豆\"',\n",
       " '\"Re: [閒聊] 寶山交通炸裂\"',\n",
       " '\"Re: [閒聊] 寶山交通炸裂\"',\n",
       " '\"Re: [問題] 竹北適合求婚的場所\"',\n",
       " '\"[公告] 新機購買續約/餐廳訂位區 \"',\n",
       " '\"─☆☆ Hsinchu - 置底‧出清／跳蚤市場  ☆☆─\"',\n",
       " '\"[公告] 新竹板板規 v3.8.3 + 新手入門\"',\n",
       " '\"[公告] 票券、卡片、點數、會員 →請推本文←\"',\n",
       " '\"[徵求] 10/24中華路五段500號南下附近行車紀錄\"']"
      ]
     },
     "execution_count": 145,
     "metadata": {},
     "output_type": "execute_result"
    }
   ],
   "source": [
    "# 確認temp裡面有沒有東西\n",
    "temp"
   ]
  },
  {
   "cell_type": "code",
   "execution_count": 155,
   "id": "b8a02ab8",
   "metadata": {},
   "outputs": [
    {
     "name": "stdout",
     "output_type": "stream",
     "text": [
      "                                 0\n",
      "0                      \"[問題] 咖啡生豆\"\n",
      "1                \"Re: [閒聊] 寶山交通炸裂\"\n",
      "2                \"Re: [閒聊] 寶山交通炸裂\"\n",
      "3             \"Re: [問題] 竹北適合求婚的場所\"\n",
      "4             \"[公告] 新機購買續約/餐廳訂位區 \"\n",
      "5  \"─☆☆ Hsinchu - 置底‧出清／跳蚤市場  ☆☆─\"\n",
      "6       \"[公告] 新竹板板規 v3.8.3 + 新手入門\"\n",
      "7        \"[公告] 票券、卡片、點數、會員 →請推本文←\"\n",
      "8    \"[徵求] 10/24中華路五段500號南下附近行車紀錄\"\n"
     ]
    }
   ],
   "source": [
    "# 轉換成 DataFrame\n",
    "df = pd.DataFrame(temp)\n",
    "print(df)"
   ]
  },
  {
   "cell_type": "code",
   "execution_count": 159,
   "id": "57d11cba",
   "metadata": {},
   "outputs": [
    {
     "data": {
      "text/html": [
       "<div>\n",
       "<style scoped>\n",
       "    .dataframe tbody tr th:only-of-type {\n",
       "        vertical-align: middle;\n",
       "    }\n",
       "\n",
       "    .dataframe tbody tr th {\n",
       "        vertical-align: top;\n",
       "    }\n",
       "\n",
       "    .dataframe thead th {\n",
       "        text-align: right;\n",
       "    }\n",
       "</style>\n",
       "<table border=\"1\" class=\"dataframe\">\n",
       "  <thead>\n",
       "    <tr style=\"text-align: right;\">\n",
       "      <th></th>\n",
       "      <th>0</th>\n",
       "    </tr>\n",
       "  </thead>\n",
       "  <tbody>\n",
       "    <tr>\n",
       "      <th>0</th>\n",
       "      <td>\"[問題] 咖啡生豆\"</td>\n",
       "    </tr>\n",
       "    <tr>\n",
       "      <th>1</th>\n",
       "      <td>\"Re: [閒聊] 寶山交通炸裂\"</td>\n",
       "    </tr>\n",
       "    <tr>\n",
       "      <th>2</th>\n",
       "      <td>\"Re: [閒聊] 寶山交通炸裂\"</td>\n",
       "    </tr>\n",
       "    <tr>\n",
       "      <th>3</th>\n",
       "      <td>\"Re: [問題] 竹北適合求婚的場所\"</td>\n",
       "    </tr>\n",
       "    <tr>\n",
       "      <th>4</th>\n",
       "      <td>\"[公告] 新機購買續約/餐廳訂位區 \"</td>\n",
       "    </tr>\n",
       "    <tr>\n",
       "      <th>5</th>\n",
       "      <td>\"─☆☆ Hsinchu - 置底‧出清／跳蚤市場  ☆☆─\"</td>\n",
       "    </tr>\n",
       "    <tr>\n",
       "      <th>6</th>\n",
       "      <td>\"[公告] 新竹板板規 v3.8.3 + 新手入門\"</td>\n",
       "    </tr>\n",
       "    <tr>\n",
       "      <th>7</th>\n",
       "      <td>\"[公告] 票券、卡片、點數、會員 →請推本文←\"</td>\n",
       "    </tr>\n",
       "    <tr>\n",
       "      <th>8</th>\n",
       "      <td>\"[徵求] 10/24中華路五段500號南下附近行車紀錄\"</td>\n",
       "    </tr>\n",
       "  </tbody>\n",
       "</table>\n",
       "</div>"
      ],
      "text/plain": [
       "                                 0\n",
       "0                      \"[問題] 咖啡生豆\"\n",
       "1                \"Re: [閒聊] 寶山交通炸裂\"\n",
       "2                \"Re: [閒聊] 寶山交通炸裂\"\n",
       "3             \"Re: [問題] 竹北適合求婚的場所\"\n",
       "4             \"[公告] 新機購買續約/餐廳訂位區 \"\n",
       "5  \"─☆☆ Hsinchu - 置底‧出清／跳蚤市場  ☆☆─\"\n",
       "6       \"[公告] 新竹板板規 v3.8.3 + 新手入門\"\n",
       "7        \"[公告] 票券、卡片、點數、會員 →請推本文←\"\n",
       "8    \"[徵求] 10/24中華路五段500號南下附近行車紀錄\""
      ]
     },
     "execution_count": 159,
     "metadata": {},
     "output_type": "execute_result"
    }
   ],
   "source": [
    "df"
   ]
  },
  {
   "cell_type": "code",
   "execution_count": 172,
   "id": "0f57c3a0",
   "metadata": {},
   "outputs": [],
   "source": [
    "# 轉為csv檔並下載\n",
    "df.to_csv('Hsinchu_PTT.csv')"
   ]
  },
  {
   "cell_type": "code",
   "execution_count": 176,
   "id": "c6a53af5",
   "metadata": {},
   "outputs": [
    {
     "data": {
      "text/plain": [
       "{0: {0: '\"[問題] 咖啡生豆\"',\n",
       "  1: '\"Re: [閒聊] 寶山交通炸裂\"',\n",
       "  2: '\"Re: [閒聊] 寶山交通炸裂\"',\n",
       "  3: '\"Re: [問題] 竹北適合求婚的場所\"',\n",
       "  4: '\"[公告] 新機購買續約/餐廳訂位區 \"',\n",
       "  5: '\"─☆☆ Hsinchu - 置底‧出清／跳蚤市場  ☆☆─\"',\n",
       "  6: '\"[公告] 新竹板板規 v3.8.3 + 新手入門\"',\n",
       "  7: '\"[公告] 票券、卡片、點數、會員 →請推本文←\"',\n",
       "  8: '\"[徵求] 10/24中華路五段500號南下附近行車紀錄\"'}}"
      ]
     },
     "execution_count": 176,
     "metadata": {},
     "output_type": "execute_result"
    }
   ],
   "source": [
    "# 將 DataFrame 轉為 Dictionary\n",
    "## 確認現在 temp 的 type\n",
    "temp = df.to_dict()\n",
    "type(temp)\n",
    "temp"
   ]
  },
  {
   "cell_type": "code",
   "execution_count": 196,
   "id": "25f7f15f",
   "metadata": {},
   "outputs": [
    {
     "ename": "AttributeError",
     "evalue": "'NoneType' object has no attribute 'decode'",
     "output_type": "error",
     "traceback": [
      "\u001b[1;31m---------------------------------------------------------------------------\u001b[0m",
      "\u001b[1;31mAttributeError\u001b[0m                            Traceback (most recent call last)",
      "Input \u001b[1;32mIn [196]\u001b[0m, in \u001b[0;36m<cell line: 2>\u001b[1;34m()\u001b[0m\n\u001b[0;32m      1\u001b[0m \u001b[38;5;28;01mimport\u001b[39;00m \u001b[38;5;21;01mjson\u001b[39;00m\n\u001b[0;32m      2\u001b[0m \u001b[38;5;28;01mwith\u001b[39;00m \u001b[38;5;28mopen\u001b[39m(\u001b[38;5;124m\"\u001b[39m\u001b[38;5;124msample.json\u001b[39m\u001b[38;5;124m\"\u001b[39m, \u001b[38;5;124m\"\u001b[39m\u001b[38;5;124mw\u001b[39m\u001b[38;5;124m\"\u001b[39m) \u001b[38;5;28;01mas\u001b[39;00m outfile:\n\u001b[1;32m----> 3\u001b[0m     \u001b[43mjson\u001b[49m\u001b[38;5;241;43m.\u001b[39;49m\u001b[43mdump\u001b[49m\u001b[43m(\u001b[49m\u001b[43mtemp\u001b[49m\u001b[43m,\u001b[49m\u001b[43m \u001b[49m\u001b[43moutfile\u001b[49m\u001b[43m)\u001b[49m\u001b[38;5;241;43m.\u001b[39;49m\u001b[43mdecode\u001b[49m(\u001b[38;5;124m'\u001b[39m\u001b[38;5;124mutf8\u001b[39m\u001b[38;5;124m'\u001b[39m)\n",
      "\u001b[1;31mAttributeError\u001b[0m: 'NoneType' object has no attribute 'decode'"
     ]
    }
   ],
   "source": [
    "import json\n",
    "with open(\"sample.json\", \"w\") as outfile:\n",
    "    json.dump(temp, outfile)"
   ]
  },
  {
   "cell_type": "code",
   "execution_count": 195,
   "id": "665dcf52",
   "metadata": {},
   "outputs": [
    {
     "ename": "SyntaxError",
     "evalue": "invalid syntax (3053085200.py, line 1)",
     "output_type": "error",
     "traceback": [
      "\u001b[1;36m  Input \u001b[1;32mIn [195]\u001b[1;36m\u001b[0m\n\u001b[1;33m    .decode('utf8')\u001b[0m\n\u001b[1;37m    ^\u001b[0m\n\u001b[1;31mSyntaxError\u001b[0m\u001b[1;31m:\u001b[0m invalid syntax\n"
     ]
    }
   ],
   "source": []
  },
  {
   "cell_type": "code",
   "execution_count": null,
   "id": "bcf222ba",
   "metadata": {},
   "outputs": [],
   "source": []
  }
 ],
 "metadata": {
  "kernelspec": {
   "display_name": "Python 3 (ipykernel)",
   "language": "python",
   "name": "python3"
  },
  "language_info": {
   "codemirror_mode": {
    "name": "ipython",
    "version": 3
   },
   "file_extension": ".py",
   "mimetype": "text/x-python",
   "name": "python",
   "nbconvert_exporter": "python",
   "pygments_lexer": "ipython3",
   "version": "3.9.12"
  }
 },
 "nbformat": 4,
 "nbformat_minor": 5
}
