{
 "cells": [
  {
   "cell_type": "code",
   "execution_count": 10,
   "id": "c16d65d7",
   "metadata": {},
   "outputs": [
    {
     "name": "stdout",
     "output_type": "stream",
     "text": [
      "\"[問題] 哪裡可以買過濾吸管跟儲備口糧？\"\n",
      "\"[贈送] 搬家紙箱與耗材\"\n",
      "\"[公告] 水桶&退文\"\n",
      "\"[問題] 新竹的牛角燒肉品質可以嗎？\"\n",
      "\"[贈送]  練習用吉他一把（已贈出）\"\n",
      "\"[徵求] 拆除工班推薦(拆木作跟打通一道門)\"\n",
      "\"[情報] 二高南下寶山回堵\"\n",
      "\"Re: [情報] 二高南下寶山回堵\"\n",
      "\"[徵求] 峨眉鄉雪之湖咖啡事故\"\n",
      "\"[贈送] 床頭櫃 及 雙人床墊\"\n",
      "\"[贈送] 舊電腦殺肉機（恰中勿來信）\"\n",
      "\"[已贈出] Kidkraft 交通工具軌道桌 / 湖口工業區\"\n",
      "\"[贈送]腳踏車\"\n",
      "\"[問題] 下班後園區附近的牛肉場\"\n",
      "\"Fw: [新聞] 新竹客運公車路線不續營「代駛」半年後\"\n",
      "\"[贈送] 標準雙人床墊\"\n",
      "\"[徵求] 理想情人極品小灰貓找家\"\n",
      "\"[公告] 新機購買續約/餐廳訂位區 \"\n",
      "\"─☆☆ Hsinchu - 置底‧出清／跳蚤市場  ☆☆─\"\n",
      "\"[公告] 新竹板板規 v3.8.3 + 新手入門\"\n",
      "\"[公告] 票券、卡片、點數、會員 →請推本文←\"\n",
      "\"[徵求] 10/19 竹市東區關東路300巷往公道五的行\"\n"
     ]
    }
   ],
   "source": [
    "# 抓取 PTT 新竹版的網頁原始碼(HTML)\n",
    "import urllib.request as req\n",
    "import json\n",
    "url= \"https://www.ptt.cc/bbs/Hsinchu/index.html\" # 可以換成想要抓的PTT版之網址\n",
    "# 建立一個 Request 物件，附加 Request Headers 的資訊(看起來像人類)\n",
    "request=req.Request(url, headers={\n",
    "    \"User-Agent\":\"Mozilla/5.0 (Windows NT 10.0; Win64; x64) AppleWebKit/537.36 (KHTML, like Gecko) Chrome/106.0.0.0 Safari/537.36\"\n",
    "})\n",
    "with req.urlopen(request) as response:\n",
    "    data=response.read().decode(\"utf-8\")\n",
    "# 解析原始碼，取得每篇文章的標題\n",
    "import bs4\n",
    "root=bs4.BeautifulSoup(data, \"html.parser\")\n",
    "titles=root.find_all(\"div\", class_=\"title\") # 尋找所有 class=\"title\" 的 div 標籤\n",
    "\n",
    "for title in titles:\n",
    "    if title.a !=None: # 如果標題包含 a 標籤(仍存在於網頁上)，就印出來\n",
    "        finish = title.a.string \n",
    "        json_dict = json.dumps(finish,ensure_ascii=False).encode('utf8')\n",
    "        decode = json_dict.decode()\n",
    "        print(decode)\n",
    "        \n"
   ]
  },
  {
   "cell_type": "code",
   "execution_count": 19,
   "id": "af2018ec",
   "metadata": {},
   "outputs": [
    {
     "name": "stdout",
     "output_type": "stream",
     "text": [
      "json下載完成\n"
     ]
    }
   ],
   "source": [
    "# 轉為json檔並直接下載\n",
    "fn = r'C:\\Users\\Irene Chang\\Desktop\\\\Hsinchu_PTT.json'\n",
    "with open(fn, 'w', encoding = 'utf-8') as json_obj:\n",
    "    json.dump(finish, json_obj)\n",
    "    print(\"json下載完成\")"
   ]
  },
  {
   "cell_type": "code",
   "execution_count": 20,
   "id": "8be15cb4",
   "metadata": {},
   "outputs": [
    {
     "name": "stdout",
     "output_type": "stream",
     "text": [
      "csv下載完成\n"
     ]
    }
   ],
   "source": [
    "# 轉為csv檔，直接下載\n",
    "fn = r'C:\\Users\\Irene Chang\\Desktop\\\\Hsinchu_PTT.csv'\n",
    "with open(fn, 'w', encoding = 'utf-8') as df:\n",
    "    json.dump(finish, df)\n",
    "    print(\"csv下載完成\")"
   ]
  },
  {
   "cell_type": "code",
   "execution_count": null,
   "id": "8e39cf32",
   "metadata": {},
   "outputs": [],
   "source": []
  }
 ],
 "metadata": {
  "kernelspec": {
   "display_name": "Python 3 (ipykernel)",
   "language": "python",
   "name": "python3"
  },
  "language_info": {
   "codemirror_mode": {
    "name": "ipython",
    "version": 3
   },
   "file_extension": ".py",
   "mimetype": "text/x-python",
   "name": "python",
   "nbconvert_exporter": "python",
   "pygments_lexer": "ipython3",
   "version": "3.9.12"
  }
 },
 "nbformat": 4,
 "nbformat_minor": 5
}
