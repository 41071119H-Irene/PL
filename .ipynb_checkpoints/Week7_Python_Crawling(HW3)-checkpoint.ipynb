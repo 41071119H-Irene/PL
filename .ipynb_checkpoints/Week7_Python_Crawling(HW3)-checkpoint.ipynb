{
 "cells": [
  {
   "cell_type": "code",
   "execution_count": 12,
   "id": "c16d65d7",
   "metadata": {},
   "outputs": [
    {
     "name": "stdout",
     "output_type": "stream",
     "text": [
      "\"[問題]園區介壽路消防局旁新蓋馬路可以走了嗎\"\n",
      "\"[情報] 10月手機回收月！竹市加碼送環保洗碗精\"\n",
      "\"[情報] 大魯閣棒壘球打擊場湳雅館結束營業通知\"\n",
      "\"[問題] 哪裡有賣帶果實欒樹樹枝\"\n",
      "\"[贈送] 不沾兩用鍋 ikea多功能掛架（恰中）\"\n",
      "\"[問題] 光埔健工教練推薦\"\n",
      "\"[贈送] 竹北 女童舊衣\"\n",
      "\"[贈送] 雙人床床包與單人棉被被套 洽中\"\n",
      "\"[贈送] 洽中，請勿來信\"\n",
      "\"[問題] 哪裡有蒙德沙凝膠(口內凝膠)\"\n",
      "\"[問題] 竹北適合求婚的場所\"\n",
      "\"Re: [問題] 新竹成人英文補習班推薦\"\n",
      "\"Fw: [情報] 歐洲租車自駕遊說明會-11/06 竹北場\"\n",
      "\"[徵求] 4G分享器\"\n",
      "\"[贈送] 搬家紙箱及緩衝包材\"\n",
      "\"[公告] 新機購買續約/餐廳訂位區 \"\n",
      "\"─☆☆ Hsinchu - 置底‧出清／跳蚤市場  ☆☆─\"\n",
      "\"[公告] 新竹板板規 v3.8.3 + 新手入門\"\n",
      "\"[公告] 票券、卡片、點數、會員 →請推本文←\"\n",
      "\"[徵求] 10/24中華路五段500號南下附近行車紀錄\"\n"
     ]
    }
   ],
   "source": [
    "# 抓取 PTT 新竹版的網頁原始碼(HTML)\n",
    "import urllib.request as req\n",
    "import json\n",
    "url= \"https://www.ptt.cc/bbs/Hsinchu/index.html\" # 可以換成想要抓的PTT版之網址\n",
    "# 建立一個 Request 物件，附加 Request Headers 的資訊(看起來像人類)\n",
    "request=req.Request(url, headers={\n",
    "    \"User-Agent\":\"Mozilla/5.0 (Windows NT 10.0; Win64; x64) AppleWebKit/537.36 (KHTML, like Gecko) Chrome/106.0.0.0 Safari/537.36\"\n",
    "})\n",
    "with req.urlopen(request) as response:\n",
    "    data=response.read().decode(\"utf-8\")\n",
    "# 解析原始碼，取得每篇文章的標題\n",
    "import bs4\n",
    "root=bs4.BeautifulSoup(data, \"html.parser\")\n",
    "titles=root.find_all(\"div\", class_=\"title\") # 尋找所有 class=\"title\" 的 div 標籤\n",
    "\n",
    "for title in titles:\n",
    "    if title.a !=None: # 如果標題包含 a 標籤(仍存在於網頁上)，就印出來\n",
    "        finish = title.a.string \n",
    "        json_dict = json.dumps(finish,ensure_ascii=False).encode('utf8')\n",
    "        decode = json_dict.decode()\n",
    "        print(decode)\n",
    "        \n"
   ]
  },
  {
   "cell_type": "code",
   "execution_count": 16,
   "id": "af2018ec",
   "metadata": {},
   "outputs": [
    {
     "name": "stdout",
     "output_type": "stream",
     "text": [
      "json下載完成\n"
     ]
    }
   ],
   "source": [
    "# 轉為json檔並直接下載\n",
    "fn = r'C:\\Users\\Irene Chang\\Desktop\\\\Hsinchu_PTT.json'\n",
    "with open(fn, 'w', encoding = 'utf-8') as json_obj:\n",
    "    for title in titles:\n",
    "        if title.a !=None:\n",
    "            finish = title.a.string \n",
    "            json_dict = json.dumps(finish,ensure_ascii=False).encode('utf8')\n",
    "            decode = json_dict.decode()\n",
    "            json.dump(finish, json_obj)\n",
    "    print(\"json下載完成\")"
   ]
  },
  {
   "cell_type": "code",
   "execution_count": 21,
   "id": "8be15cb4",
   "metadata": {},
   "outputs": [
    {
     "name": "stdout",
     "output_type": "stream",
     "text": [
      "csv下載完成\n"
     ]
    }
   ],
   "source": [
    "# 轉為csv檔，直接下載\n",
    "fn = r'C:\\Users\\Irene Chang\\Desktop\\\\Hsinchu_PTT.csv'\n",
    "with open(fn, 'w', encoding = 'utf-8') as df:\n",
    "    for title in titles:\n",
    "        if title.a !=None:\n",
    "            finish = title.a.string \n",
    "            json_dict = json.dumps(finish,ensure_ascii=False).encode('utf8')\n",
    "            decode = json_dict.decode()\n",
    "            json.dump(finish, df)\n",
    "    print(\"csv下載完成\")"
   ]
  },
  {
   "cell_type": "code",
   "execution_count": null,
   "id": "d3d739ae",
   "metadata": {},
   "outputs": [],
   "source": []
  }
 ],
 "metadata": {
  "kernelspec": {
   "display_name": "Python 3 (ipykernel)",
   "language": "python",
   "name": "python3"
  },
  "language_info": {
   "codemirror_mode": {
    "name": "ipython",
    "version": 3
   },
   "file_extension": ".py",
   "mimetype": "text/x-python",
   "name": "python",
   "nbconvert_exporter": "python",
   "pygments_lexer": "ipython3",
   "version": "3.9.12"
  }
 },
 "nbformat": 4,
 "nbformat_minor": 5
}
