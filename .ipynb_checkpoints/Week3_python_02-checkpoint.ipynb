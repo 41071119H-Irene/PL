{
 "cells": [
  {
   "cell_type": "code",
   "execution_count": 37,
   "id": "bb9ecccd",
   "metadata": {},
   "outputs": [
    {
     "name": "stdout",
     "output_type": "stream",
     "text": [
      "['因葉益成（已歿）積欠伊賭債新臺幣（下同）60萬元', '交付楊清弦美製貝瑞塔手槍1支、美製史密斯手槍1支、制式口徑9mm子彈26顆 、土造金屬子彈1顆、仿美國COLT廠M1911A1型半自動手槍1支、口徑0.45吋制式子彈1顆', '而未經許可而持有之。']\n"
     ]
    }
   ],
   "source": [
    "# 練習0201\n",
    "\n",
    "## 把語句分開\n",
    "s= \"因葉益成（已歿）積欠伊賭債新臺幣（下同）60萬元，交付楊清弦美製貝瑞塔手槍1支、美製史密斯手槍1支、制式口徑9mm子彈26顆 、土造金屬子彈1顆、仿美國COLT廠M1911A1型半自動手槍1支、口徑0.45吋制式子彈1顆，而未經許可而持有之。\"\n",
    "l= s.split(\"，\")\n",
    "\n",
    "print(l)"
   ]
  },
  {
   "cell_type": "code",
   "execution_count": 38,
   "id": "431bea45",
   "metadata": {},
   "outputs": [
    {
     "name": "stdout",
     "output_type": "stream",
     "text": [
      "['交付楊清弦美製貝瑞塔手槍1支、美製史密斯手槍1支、制式口徑9mm子彈26顆 、土造金屬子彈1顆、仿美國COLT廠M1911A1型半自動手槍1支、口徑0.45吋制式子彈1顆']\n"
     ]
    }
   ],
   "source": [
    "## 刪掉不需要的語句\n",
    "del l[0]\n",
    "del l[-1]\n",
    "print(l)"
   ]
  },
  {
   "cell_type": "code",
   "execution_count": 39,
   "id": "67e75f4f",
   "metadata": {},
   "outputs": [
    {
     "name": "stdout",
     "output_type": "stream",
     "text": [
      "['交付楊清弦美製貝瑞塔手槍1支', '美製史密斯手槍1支', '制式口徑9mm子彈26顆 ', '土造金屬子彈1顆', '仿美國COLT廠M1911A1型半自動手槍1支', '口徑0.45吋制式子彈1顆']\n"
     ]
    }
   ],
   "source": [
    "## 把品項分開來\n",
    "l2= l[0].split(\"、\")\n",
    "print(l2)"
   ]
  },
  {
   "cell_type": "code",
   "execution_count": 40,
   "id": "11131a94",
   "metadata": {},
   "outputs": [
    {
     "name": "stdout",
     "output_type": "stream",
     "text": [
      "['美製貝瑞塔手槍1支', '美製史密斯手槍1支', '制式口徑9mm子彈26顆 ', '土造金屬子彈1顆', '仿美國COLT廠M1911A1型半自動手槍1支', '口徑0.45吋制式子彈1顆']\n"
     ]
    }
   ],
   "source": [
    "## 改正第一項把前言去掉\n",
    "\n",
    "l2[0]=\"美製貝瑞塔手槍1支\"\n",
    "print(l2)"
   ]
  },
  {
   "cell_type": "code",
   "execution_count": 9,
   "id": "24301528",
   "metadata": {},
   "outputs": [
    {
     "name": "stdout",
     "output_type": "stream",
     "text": [
      "('最高法院民事判例', '最高法院刑事判例', '行政法院判例')\n"
     ]
    }
   ],
   "source": [
    "# 練習0202\n",
    "\n",
    "# 最高法院民事判例7則，最高法院刑事判例3則，行政法院判例5則，大法官解釋4則。請將判例解釋部分與數量部分分別放入兩個元組\n",
    "\n",
    "## 製作元組\n",
    "explain = \"最高法院民事判例\",\"最高法院刑事判例\",\"行政法院判例\",\"大法官解釋\"\n",
    "number = 7, 3, 5, 4\n",
    "\n",
    "## 取前三個\n",
    "explain1 = explain[:3]\n",
    "print(explain1)"
   ]
  },
  {
   "cell_type": "code",
   "execution_count": 12,
   "id": "e5475a3b",
   "metadata": {},
   "outputs": [
    {
     "name": "stdout",
     "output_type": "stream",
     "text": [
      "[('最高法院民事判例', 7), ('最高法院刑事判例', 3), ('行政法院判例', 5)]\n"
     ]
    }
   ],
   "source": [
    "## 合併\n",
    "zipit = zip(explain1, number)\n",
    "print(list(zipit))"
   ]
  },
  {
   "cell_type": "code",
   "execution_count": 19,
   "id": "3465a5d5",
   "metadata": {},
   "outputs": [
    {
     "name": "stdout",
     "output_type": "stream",
     "text": [
      "{'無期徒刑', '有期徒刑', '褫奪公權', '罰金', '沒收'}\n",
      "{'無期徒刑', '褫奪公權'}\n",
      "{'罰金'}\n",
      "True\n",
      "True\n"
     ]
    }
   ],
   "source": [
    "# 練習0203\n",
    "\n",
    "## A、B各自的刑罰\n",
    "A = {\"有期徒刑\", \"沒收\", \"罰金\"}\n",
    "B = {\"無期徒刑\",\"罰金\", \"褫奪公權\"}\n",
    "\n",
    "## 總共的刑罰\n",
    "print(A|B)\n",
    "## B有A沒有的刑罰\n",
    "print(B.difference(A))\n",
    "## 兩人共同刑罰\n",
    "print(A&B)\n",
    "## 用 in 檢查\n",
    "print(\"罰金\"in A)\n",
    "print(\"罰金\"in B)"
   ]
  },
  {
   "cell_type": "code",
   "execution_count": 5,
   "id": "14a26191",
   "metadata": {},
   "outputs": [
    {
     "name": "stdout",
     "output_type": "stream",
     "text": [
      "['刑事訴訟法', '中華民國刑法']\n",
      "[['第159條之4', '第159條之5', '第159條之1', '第267條', '第299條第1項', '第302條第1款'], ['第11條', '第38條第1項第1款', '第42條第3項', '第55條', '第56條', '第57條', '第59條']]\n",
      "第267條\n",
      "{'刑事訴訟法': ['第159條之4', '第159條之5', '第159條之1', '第267條', '第299條第1項', '第302條第1款'], '中華民國刑法': ['第11條', '第38條第1項第1款', '第42條第3項', '第55條', '第56條', '第57條', '第59條', '第62條']}\n"
     ]
    }
   ],
   "source": [
    "# 練習0204\n",
    "\n",
    "## 建立字典\n",
    "dictionary={\"刑事訴訟法\":[\"第159條之4\",\"第159條之5\",\"第159條之1\",\"第267條\",\"第299條第1項\",\"第302條第1款\"],\n",
    "   \"中華民國刑法\":[\"第11條\",\"第38條第1項第1款\",\"第42條第3項\",\"第55條\",\"第56條\",\"第57條\",\"第59條\"]}\n",
    "\n",
    "## 印出字典資訊\n",
    "penalty=list(dictionary.keys())\n",
    "print(penalty)\n",
    "ROC=list(dictionary.values())\n",
    "print(ROC)\n",
    "\n",
    "## 印出第四條條款\n",
    "print(dictionary[\"刑事訴訟法\"][3])\n",
    "\n",
    "## 加上62條\n",
    "dictionary[\"中華民國刑法\"]=[\"第11條\",\"第38條第1項第1款\",\"第42條第3項\",\"第55條\",\"第56條\",\"第57條\",\"第59條\",\"第62條\"]\n",
    "print(dictionary)"
   ]
  }
 ],
 "metadata": {
  "kernelspec": {
   "display_name": "Python 3 (ipykernel)",
   "language": "python",
   "name": "python3"
  },
  "language_info": {
   "codemirror_mode": {
    "name": "ipython",
    "version": 3
   },
   "file_extension": ".py",
   "mimetype": "text/x-python",
   "name": "python",
   "nbconvert_exporter": "python",
   "pygments_lexer": "ipython3",
   "version": "3.9.12"
  }
 },
 "nbformat": 4,
 "nbformat_minor": 5
}
