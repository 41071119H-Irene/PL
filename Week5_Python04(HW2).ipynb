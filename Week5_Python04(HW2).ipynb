{
 "cells": [
  {
   "cell_type": "code",
   "execution_count": 102,
   "id": "92891f96",
   "metadata": {},
   "outputs": [],
   "source": [
    "# 將JSON檔拉進程式，並將之打開\n",
    "\n",
    "import json\n",
    "\n",
    "HR = open('HR.json',encoding=\"UTF-8\")"
   ]
  },
  {
   "cell_type": "code",
   "execution_count": 103,
   "id": "acd95565",
   "metadata": {},
   "outputs": [],
   "source": [
    "active = json.load(HR)"
   ]
  },
  {
   "cell_type": "code",
   "execution_count": 104,
   "id": "5dd89d2a",
   "metadata": {},
   "outputs": [
    {
     "data": {
      "text/plain": [
       "dict"
      ]
     },
     "execution_count": 104,
     "metadata": {},
     "output_type": "execute_result"
    }
   ],
   "source": [
    "## 辨識讀出來的類別，excel原始檔沒有分頁的話會顯示為list\n",
    "type(active)"
   ]
  },
  {
   "cell_type": "code",
   "execution_count": 105,
   "id": "6f1c10ab",
   "metadata": {
    "scrolled": true
   },
   "outputs": [
    {
     "data": {
      "text/plain": [
       "dict_items([('出席列表', [{'學生姓名': 'Irene', '組別': 4, '出席率': 25}, {'學生姓名': 'Ruth', '組別': 2, '出席率': 100}, {'學生姓名': 'Ben', '組別': 1, '出席率': 75}, {'學生姓名': 'Amy', '組別': 5, '出席率': 80}]), ('總加分數', [{'學生姓名': 'Irene', '總加分': 5}, {'學生姓名': 'Ruth', '總加分': 7}, {'學生姓名': 'Ben', '總加分': 0}, {'學生姓名': 'Amy', '總加分': 3}])])"
      ]
     },
     "execution_count": 105,
     "metadata": {},
     "output_type": "execute_result"
    }
   ],
   "source": [
    "## 讀出完整字典做確認\n",
    "active.items()"
   ]
  },
  {
   "cell_type": "code",
   "execution_count": 106,
   "id": "4de3085b",
   "metadata": {},
   "outputs": [],
   "source": [
    "# 抽出學生出席列表、總加分數\n",
    "temp = active.get('出席列表')\n",
    "temp1 = active.get('總加分數')"
   ]
  },
  {
   "cell_type": "code",
   "execution_count": 110,
   "id": "f9348c2f",
   "metadata": {},
   "outputs": [],
   "source": [
    "# 填入想查詢的學生姓名\n",
    "ask = \"Amy\""
   ]
  },
  {
   "cell_type": "code",
   "execution_count": 111,
   "id": "01e9a808",
   "metadata": {},
   "outputs": [
    {
     "name": "stdout",
     "output_type": "stream",
     "text": [
      "Amy 是第 5 組\n",
      "出席率: 80 %\n"
     ]
    }
   ],
   "source": [
    "# 查詢組別 & 出席率\n",
    "\n",
    "for i in temp:\n",
    "    if ask == i.get('學生姓名'):\n",
    "        print(ask, '是第', i.get('組別'),'組')\n",
    "        print(\"出席率:\", i.get('出席率'), \"%\")"
   ]
  },
  {
   "cell_type": "code",
   "execution_count": 112,
   "id": "c93b8231",
   "metadata": {},
   "outputs": [
    {
     "name": "stdout",
     "output_type": "stream",
     "text": [
      "總共加了 3 分\n"
     ]
    }
   ],
   "source": [
    "# 查詢加了多少分\n",
    "for o in temp1:\n",
    "    if ask == o.get('學生姓名'):\n",
    "        print('總共加了', o.get('總加分'), '分')"
   ]
  }
 ],
 "metadata": {
  "kernelspec": {
   "display_name": "Python 3 (ipykernel)",
   "language": "python",
   "name": "python3"
  },
  "language_info": {
   "codemirror_mode": {
    "name": "ipython",
    "version": 3
   },
   "file_extension": ".py",
   "mimetype": "text/x-python",
   "name": "python",
   "nbconvert_exporter": "python",
   "pygments_lexer": "ipython3",
   "version": "3.9.12"
  }
 },
 "nbformat": 4,
 "nbformat_minor": 5
}
