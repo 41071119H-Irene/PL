{
 "cells": [
  {
   "cell_type": "code",
   "execution_count": 3,
   "id": "638f1c83",
   "metadata": {
    "scrolled": true
   },
   "outputs": [],
   "source": [
    "# 想解決的問題: 找到有誰沒來上課\n",
    "import pandas as pd\n",
    "\n",
    "# read csv file 抓資料進來\n",
    "\n",
    "CIOT = pd.read_csv(\"CIOT.csv\")\n",
    "classes = pd.read_csv(\"class.csv\")"
   ]
  },
  {
   "cell_type": "code",
   "execution_count": 4,
   "id": "346aef49",
   "metadata": {},
   "outputs": [
    {
     "name": "stdout",
     "output_type": "stream",
     "text": [
      "應出席學生數: 21  vs. 實際出席學生數: 15\n"
     ]
    }
   ],
   "source": [
    "# 設定要抓的欄位，比較兩邊資料的差別\n",
    "alldata = list(CIOT['姓名'])\n",
    "classs = list(classes['姓名'])\n",
    "print(\"應出席學生數:\", len(CIOT),\" vs. 實際出席學生數:\", len(classes))"
   ]
  },
  {
   "cell_type": "code",
   "execution_count": 5,
   "id": "f49f639e",
   "metadata": {},
   "outputs": [
    {
     "data": {
      "text/plain": [
       "{'李國彰', '林郁宸', '林雨璇', '鄭文', '鄭朝元', '黃俊能'}"
      ]
     },
     "execution_count": 5,
     "metadata": {},
     "output_type": "execute_result"
    }
   ],
   "source": [
    "# print 出沒有同時出現在兩個檔案的人(取差集)\n",
    "set(alldata).difference(set(classs))"
   ]
  },
  {
   "cell_type": "code",
   "execution_count": null,
   "id": "e0142cf5",
   "metadata": {},
   "outputs": [],
   "source": []
  }
 ],
 "metadata": {
  "kernelspec": {
   "display_name": "Python 3 (ipykernel)",
   "language": "python",
   "name": "python3"
  },
  "language_info": {
   "codemirror_mode": {
    "name": "ipython",
    "version": 3
   },
   "file_extension": ".py",
   "mimetype": "text/x-python",
   "name": "python",
   "nbconvert_exporter": "python",
   "pygments_lexer": "ipython3",
   "version": "3.9.12"
  }
 },
 "nbformat": 4,
 "nbformat_minor": 5
}
