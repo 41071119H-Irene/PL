{
 "cells": [
  {
   "cell_type": "code",
   "execution_count": 1,
   "id": "57fe559f",
   "metadata": {},
   "outputs": [],
   "source": [
    "money=500\n",
    "year=4"
   ]
  },
  {
   "cell_type": "code",
   "execution_count": 4,
   "id": "540054bf",
   "metadata": {},
   "outputs": [
    {
     "name": "stdout",
     "output_type": "stream",
     "text": [
      "給我 500 元\n"
     ]
    }
   ],
   "source": [
    "print(\"給我\",money,\"元\")"
   ]
  },
  {
   "cell_type": "code",
   "execution_count": 5,
   "id": "cb5137b5",
   "metadata": {},
   "outputs": [
    {
     "name": "stdout",
     "output_type": "stream",
     "text": [
      "4\n"
     ]
    }
   ],
   "source": [
    "print(year)"
   ]
  },
  {
   "cell_type": "code",
   "execution_count": 3,
   "id": "b20878e5",
   "metadata": {},
   "outputs": [
    {
     "name": "stdout",
     "output_type": "stream",
     "text": [
      "4\n"
     ]
    }
   ],
   "source": [
    "money=500\n",
    "year=4\n",
    "\n",
    "print(year)"
   ]
  },
  {
   "cell_type": "code",
   "execution_count": 6,
   "id": "0d954d2d",
   "metadata": {},
   "outputs": [
    {
     "name": "stdout",
     "output_type": "stream",
     "text": [
      "如果今日有一判決結果為「相對人於民國一百零六年三月二十一日簽發之本票內載憑票交付聲請人新臺幣陸萬參仟捌佰伍拾貳元，及自民國一百零六年三月二十一日起至清償日止，按年息百分之十六\n"
     ]
    }
   ],
   "source": [
    "str1=\"如果今日有一判決結果為「相對人於民國一百零六年三月二十一日簽發之本票內載憑票交付聲請人新臺幣陸萬參仟捌佰伍拾貳元，及自民國一百零六年三月二十一日起至清償日止，按年息百分之十六\"\n",
    "print(str1)"
   ]
  },
  {
   "cell_type": "code",
   "execution_count": 7,
   "id": "33b55082",
   "metadata": {},
   "outputs": [
    {
     "name": "stdout",
     "output_type": "stream",
     "text": [
      "如果今日有一判決結果為「相對人於民國一百零六年三月二十一日簽發之本票內載憑票交付聲請人新臺幣陸萬參仟捌佰伍拾貳元，及自民國一百零六年三月二十一日起至清償日止，按年息百分之十六償還\n"
     ]
    }
   ],
   "source": [
    "str1=\"如果今日有一判決結果為「相對人於民國一百零六年三月二十一日簽發之本票內載憑票交付聲請人新臺幣陸萬參仟捌佰伍拾貳元，及自民國一百零六年三月二十一日起至清償日止，按年息百分之十六償還\"\n",
    "print(str1)"
   ]
  },
  {
   "cell_type": "code",
   "execution_count": null,
   "id": "b6094370",
   "metadata": {},
   "outputs": [],
   "source": []
  }
 ],
 "metadata": {
  "kernelspec": {
   "display_name": "Python 3 (ipykernel)",
   "language": "python",
   "name": "python3"
  },
  "language_info": {
   "codemirror_mode": {
    "name": "ipython",
    "version": 3
   },
   "file_extension": ".py",
   "mimetype": "text/x-python",
   "name": "python",
   "nbconvert_exporter": "python",
   "pygments_lexer": "ipython3",
   "version": "3.9.12"
  }
 },
 "nbformat": 4,
 "nbformat_minor": 5
}
