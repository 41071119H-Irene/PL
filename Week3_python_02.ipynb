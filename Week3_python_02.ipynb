{
 "cells": [
  {
   "cell_type": "code",
   "execution_count": 37,
   "id": "bb9ecccd",
   "metadata": {},
   "outputs": [
    {
     "name": "stdout",
     "output_type": "stream",
     "text": [
      "['因葉益成（已歿）積欠伊賭債新臺幣（下同）60萬元', '交付楊清弦美製貝瑞塔手槍1支、美製史密斯手槍1支、制式口徑9mm子彈26顆 、土造金屬子彈1顆、仿美國COLT廠M1911A1型半自動手槍1支、口徑0.45吋制式子彈1顆', '而未經許可而持有之。']\n"
     ]
    }
   ],
   "source": [
    "# 練習0201\n",
    "\n",
    "## 把語句分開\n",
    "s= \"因葉益成（已歿）積欠伊賭債新臺幣（下同）60萬元，交付楊清弦美製貝瑞塔手槍1支、美製史密斯手槍1支、制式口徑9mm子彈26顆 、土造金屬子彈1顆、仿美國COLT廠M1911A1型半自動手槍1支、口徑0.45吋制式子彈1顆，而未經許可而持有之。\"\n",
    "l= s.split(\"，\")\n",
    "\n",
    "print(l)"
   ]
  },
  {
   "cell_type": "code",
   "execution_count": 38,
   "id": "431bea45",
   "metadata": {},
   "outputs": [
    {
     "name": "stdout",
     "output_type": "stream",
     "text": [
      "['交付楊清弦美製貝瑞塔手槍1支、美製史密斯手槍1支、制式口徑9mm子彈26顆 、土造金屬子彈1顆、仿美國COLT廠M1911A1型半自動手槍1支、口徑0.45吋制式子彈1顆']\n"
     ]
    }
   ],
   "source": [
    "## 刪掉不需要的語句\n",
    "del l[0]\n",
    "del l[-1]\n",
    "print(l)"
   ]
  },
  {
   "cell_type": "code",
   "execution_count": 39,
   "id": "67e75f4f",
   "metadata": {},
   "outputs": [
    {
     "name": "stdout",
     "output_type": "stream",
     "text": [
      "['交付楊清弦美製貝瑞塔手槍1支', '美製史密斯手槍1支', '制式口徑9mm子彈26顆 ', '土造金屬子彈1顆', '仿美國COLT廠M1911A1型半自動手槍1支', '口徑0.45吋制式子彈1顆']\n"
     ]
    }
   ],
   "source": [
    "## 把品項分開來\n",
    "l2= l[0].split(\"、\")\n",
    "print(l2)"
   ]
  },
  {
   "cell_type": "code",
   "execution_count": 40,
   "id": "11131a94",
   "metadata": {},
   "outputs": [
    {
     "name": "stdout",
     "output_type": "stream",
     "text": [
      "['美製貝瑞塔手槍1支', '美製史密斯手槍1支', '制式口徑9mm子彈26顆 ', '土造金屬子彈1顆', '仿美國COLT廠M1911A1型半自動手槍1支', '口徑0.45吋制式子彈1顆']\n"
     ]
    }
   ],
   "source": [
    "## 改正第一項把前言去掉\n",
    "\n",
    "l2[0]=\"美製貝瑞塔手槍1支\"\n",
    "print(l2)"
   ]
  },
  {
   "cell_type": "code",
   "execution_count": 41,
   "id": "24301528",
   "metadata": {},
   "outputs": [],
   "source": [
    "# 練習"
   ]
  }
 ],
 "metadata": {
  "kernelspec": {
   "display_name": "Python 3 (ipykernel)",
   "language": "python",
   "name": "python3"
  },
  "language_info": {
   "codemirror_mode": {
    "name": "ipython",
    "version": 3
   },
   "file_extension": ".py",
   "mimetype": "text/x-python",
   "name": "python",
   "nbconvert_exporter": "python",
   "pygments_lexer": "ipython3",
   "version": "3.9.12"
  }
 },
 "nbformat": 4,
 "nbformat_minor": 5
}
